{
  "cells": [
    {
      "cell_type": "code",
      "execution_count": null,
      "metadata": {
        "execution": {
          "iopub.execute_input": "2022-11-19T15:58:48.432985Z",
          "iopub.status.busy": "2022-11-19T15:58:48.432464Z",
          "iopub.status.idle": "2022-11-19T15:58:48.652188Z",
          "shell.execute_reply": "2022-11-19T15:58:48.651253Z",
          "shell.execute_reply.started": "2022-11-19T15:58:48.432879Z"
        },
        "gather": {
          "logged": 1668920664640
        },
        "trusted": true
      },
      "outputs": [
        {
          "name": "stdout",
          "output_type": "stream",
          "text": [
            "Login successful\n",
            "Your token has been saved to /home/azureuser/.huggingface/token\n",
            "\u001b[1m\u001b[31mAuthenticated through git-credential store but this isn't the helper defined on your machine.\n",
            "You might have to re-authenticate when pushing to the Hugging Face Hub. Run the following command in your terminal in case you want to set this credential helper as the default\n",
            "\n",
            "git config --global credential.helper store\u001b[0m\n"
          ]
        }
      ],
      "source": [
        "from huggingface_hub import notebook_login\n",
        "notebook_login()"
      ]
    },
    {
      "cell_type": "code",
      "execution_count": 25,
      "metadata": {
        "gather": {
          "logged": 1668923068758
        },
        "jupyter": {
          "outputs_hidden": false,
          "source_hidden": false
        },
        "nteract": {
          "transient": {
            "deleting": false
          }
        }
      },
      "outputs": [],
      "source": [
        "# !pip install h5py==3.1.0 --force-reinstall\n",
        "# !pip install tensorflow==2.9.2 --force-reinstall"
      ]
    },
    {
      "cell_type": "code",
      "execution_count": 2,
      "metadata": {
        "execution": {
          "iopub.execute_input": "2022-11-19T15:58:52.948611Z",
          "iopub.status.busy": "2022-11-19T15:58:52.947389Z",
          "iopub.status.idle": "2022-11-19T15:59:04.679689Z",
          "shell.execute_reply": "2022-11-19T15:59:04.678336Z",
          "shell.execute_reply.started": "2022-11-19T15:58:52.948527Z"
        },
        "trusted": true
      },
      "outputs": [],
      "source": [
        "! pip install -q datasets tqdm"
      ]
    },
    {
      "cell_type": "code",
      "execution_count": 1,
      "metadata": {
        "execution": {
          "iopub.execute_input": "2022-11-19T17:01:32.882377Z",
          "iopub.status.busy": "2022-11-19T17:01:32.881994Z",
          "iopub.status.idle": "2022-11-19T17:01:32.889379Z",
          "shell.execute_reply": "2022-11-19T17:01:32.888079Z",
          "shell.execute_reply.started": "2022-11-19T17:01:32.882345Z"
        },
        "gather": {
          "logged": 1668926461723
        },
        "trusted": true
      },
      "outputs": [],
      "source": [
        "import collections\n",
        "import random\n",
        "import os\n",
        "import time\n",
        "import json\n",
        "from PIL import Image\n",
        "import io\n",
        "import urllib\n",
        "import uuid\n",
        "from concurrent.futures import ThreadPoolExecutor\n",
        "from functools import partial\n",
        "\n",
        "import numpy as np\n",
        "from tqdm import tqdm\n",
        "from datasets import load_dataset\n",
        "from datasets.utils.file_utils import get_datasets_user_agent\n",
        "import matplotlib.pyplot as plt\n",
        "import tensorflow as tf\n",
        "from datasets import load_dataset"
      ]
    },
    {
      "cell_type": "code",
      "execution_count": 4,
      "metadata": {
        "execution": {
          "iopub.execute_input": "2022-11-19T17:43:17.248282Z",
          "iopub.status.busy": "2022-11-19T17:43:17.247907Z",
          "iopub.status.idle": "2022-11-19T17:43:31.737756Z",
          "shell.execute_reply": "2022-11-19T17:43:31.736764Z",
          "shell.execute_reply.started": "2022-11-19T17:43:17.248250Z"
        },
        "gather": {
          "logged": 1668920737000
        },
        "trusted": true
      },
      "outputs": [
        {
          "data": {
            "application/vnd.jupyter.widget-view+json": {
              "model_id": "a723cefc33c64da691fd0769925ef2cd",
              "version_major": 2,
              "version_minor": 0
            },
            "text/plain": [
              "Downloading builder script:   0%|          | 0.00/41.6k [00:00<?, ?B/s]"
            ]
          },
          "metadata": {},
          "output_type": "display_data"
        },
        {
          "name": "stdout",
          "output_type": "stream",
          "text": [
            "Downloading and preparing dataset bloom-captioning/kir (download: 168.28 MiB, generated: 2.78 MiB, post-processed: Unknown size, total: 171.06 MiB) to /home/azureuser/.cache/huggingface/datasets/sil-ai___bloom-captioning/kir/0.0.0/8efe15718b4a50170c9add75b453aec13ec1c5216111d21815428536fe5913ca...\n"
          ]
        },
        {
          "data": {
            "application/vnd.jupyter.widget-view+json": {
              "model_id": "dbfc27dc774b43c4b1a877ab3390fd60",
              "version_major": 2,
              "version_minor": 0
            },
            "text/plain": [
              "Downloading data:   0%|          | 0.00/176M [00:00<?, ?B/s]"
            ]
          },
          "metadata": {},
          "output_type": "display_data"
        },
        {
          "data": {
            "application/vnd.jupyter.widget-view+json": {
              "model_id": "2d127a73cf8d4d04b336a4dbff87c2da",
              "version_major": 2,
              "version_minor": 0
            },
            "text/plain": [
              "Generating test split:   0%|          | 0/56 [00:00<?, ? examples/s]"
            ]
          },
          "metadata": {},
          "output_type": "display_data"
        },
        {
          "data": {
            "application/vnd.jupyter.widget-view+json": {
              "model_id": "f67927ca26dc47c288a6dddd41c9319b",
              "version_major": 2,
              "version_minor": 0
            },
            "text/plain": [
              "Generating validation split:   0%|          | 0/51 [00:00<?, ? examples/s]"
            ]
          },
          "metadata": {},
          "output_type": "display_data"
        },
        {
          "data": {
            "application/vnd.jupyter.widget-view+json": {
              "model_id": "de5160651dfd400cb9e3f8720a3cf90c",
              "version_major": 2,
              "version_minor": 0
            },
            "text/plain": [
              "Generating train split:   0%|          | 0/3919 [00:00<?, ? examples/s]"
            ]
          },
          "metadata": {},
          "output_type": "display_data"
        },
        {
          "name": "stdout",
          "output_type": "stream",
          "text": [
            "Dataset bloom-captioning downloaded and prepared to /home/azureuser/.cache/huggingface/datasets/sil-ai___bloom-captioning/kir/0.0.0/8efe15718b4a50170c9add75b453aec13ec1c5216111d21815428536fe5913ca. Subsequent calls will reuse this data.\n"
          ]
        },
        {
          "data": {
            "application/vnd.jupyter.widget-view+json": {
              "model_id": "9b37a6fb8e7742f2a7d7d5e44cd216e7",
              "version_major": 2,
              "version_minor": 0
            },
            "text/plain": [
              "  0%|          | 0/3 [00:00<?, ?it/s]"
            ]
          },
          "metadata": {},
          "output_type": "display_data"
        }
      ],
      "source": [
        "# Add the relevant ISO code for the language you want to work with.\n",
        "# iso639_3_letter_code = \"hau\"\n",
        "# iso639_3_letter_code = \"tha\"\n",
        "iso639_3_letter_code = \"kir\"\n",
        "\n",
        "# Download the language specific dataset from HF.\n",
        "dataset = load_dataset(\"sil-ai/bloom-captioning\", iso639_3_letter_code, \n",
        "                       use_auth_token=True, download_mode='force_redownload')"
      ]
    },
    {
      "cell_type": "code",
      "execution_count": 5,
      "metadata": {
        "gather": {
          "logged": 1668920749299
        },
        "jupyter": {
          "outputs_hidden": false,
          "source_hidden": false
        },
        "nteract": {
          "transient": {
            "deleting": false
          }
        }
      },
      "outputs": [
        {
          "data": {
            "text/plain": [
              "DatasetDict({\n",
              "    test: Dataset({\n",
              "        features: ['image_id', 'image_url', 'caption', 'story_id', 'album_id', 'license', 'original_bloom_language_tag', 'index_in_story'],\n",
              "        num_rows: 56\n",
              "    })\n",
              "    validation: Dataset({\n",
              "        features: ['image_id', 'image_url', 'caption', 'story_id', 'album_id', 'license', 'original_bloom_language_tag', 'index_in_story'],\n",
              "        num_rows: 51\n",
              "    })\n",
              "    train: Dataset({\n",
              "        features: ['image_id', 'image_url', 'caption', 'story_id', 'album_id', 'license', 'original_bloom_language_tag', 'index_in_story'],\n",
              "        num_rows: 3919\n",
              "    })\n",
              "})"
            ]
          },
          "execution_count": 5,
          "metadata": {},
          "output_type": "execute_result"
        }
      ],
      "source": [
        "dataset"
      ]
    },
    {
      "cell_type": "code",
      "execution_count": 8,
      "metadata": {
        "gather": {
          "logged": 1668920841622
        },
        "jupyter": {
          "outputs_hidden": false,
          "source_hidden": false
        },
        "nteract": {
          "transient": {
            "deleting": false
          }
        }
      },
      "outputs": [],
      "source": [
        "# Creating dataframe out of Kyrgyz dataset\n",
        "import pandas as pd\n",
        "\n",
        "df_kir_train = pd.DataFrame.from_dict(dataset['train'])\n",
        "df_kir_test = pd.DataFrame.from_dict(dataset['test'])\n",
        "df_kir_val = pd.DataFrame.from_dict(dataset['validation'])"
      ]
    },
    {
      "cell_type": "markdown",
      "metadata": {
        "nteract": {
          "transient": {
            "deleting": false
          }
        }
      },
      "source": [
        "# Additional Data"
      ]
    },
    {
      "cell_type": "markdown",
      "metadata": {
        "nteract": {
          "transient": {
            "deleting": false
          }
        }
      },
      "source": [
        "### Adding Suplementary Dataset from English Language and converting it to Kyrgyz using Google Translate"
      ]
    },
    {
      "cell_type": "code",
      "execution_count": 9,
      "metadata": {
        "gather": {
          "logged": 1668920861189
        },
        "jupyter": {
          "outputs_hidden": false,
          "source_hidden": false
        },
        "nteract": {
          "transient": {
            "deleting": false
          }
        }
      },
      "outputs": [
        {
          "data": {
            "application/vnd.jupyter.widget-view+json": {
              "model_id": "418e2c1c5f7b40e6b3366cc68ded1cfc",
              "version_major": 2,
              "version_minor": 0
            },
            "text/plain": [
              "Downloading builder script:   0%|          | 0.00/41.6k [00:00<?, ?B/s]"
            ]
          },
          "metadata": {},
          "output_type": "display_data"
        },
        {
          "name": "stdout",
          "output_type": "stream",
          "text": [
            "Downloading and preparing dataset bloom-captioning/eng (download: 168.28 MiB, generated: 11.62 MiB, post-processed: Unknown size, total: 179.91 MiB) to /home/azureuser/.cache/huggingface/datasets/sil-ai___bloom-captioning/eng/0.0.0/8efe15718b4a50170c9add75b453aec13ec1c5216111d21815428536fe5913ca...\n"
          ]
        },
        {
          "data": {
            "application/vnd.jupyter.widget-view+json": {
              "model_id": "9be2a974b7664048878e94f888c0eaf7",
              "version_major": 2,
              "version_minor": 0
            },
            "text/plain": [
              "Downloading data:   0%|          | 0.00/176M [00:00<?, ?B/s]"
            ]
          },
          "metadata": {},
          "output_type": "display_data"
        },
        {
          "data": {
            "application/vnd.jupyter.widget-view+json": {
              "model_id": "0725c50a5d514bddbc184af07a7a3c83",
              "version_major": 2,
              "version_minor": 0
            },
            "text/plain": [
              "Generating test split:   0%|          | 0/266 [00:00<?, ? examples/s]"
            ]
          },
          "metadata": {},
          "output_type": "display_data"
        },
        {
          "data": {
            "application/vnd.jupyter.widget-view+json": {
              "model_id": "63a358373c6543e598fbe033b6dceb4a",
              "version_major": 2,
              "version_minor": 0
            },
            "text/plain": [
              "Generating validation split:   0%|          | 0/396 [00:00<?, ? examples/s]"
            ]
          },
          "metadata": {},
          "output_type": "display_data"
        },
        {
          "data": {
            "application/vnd.jupyter.widget-view+json": {
              "model_id": "0d5b6ade247846ad91d5e0548c000279",
              "version_major": 2,
              "version_minor": 0
            },
            "text/plain": [
              "Generating train split:   0%|          | 0/27956 [00:00<?, ? examples/s]"
            ]
          },
          "metadata": {},
          "output_type": "display_data"
        },
        {
          "name": "stdout",
          "output_type": "stream",
          "text": [
            "Dataset bloom-captioning downloaded and prepared to /home/azureuser/.cache/huggingface/datasets/sil-ai___bloom-captioning/eng/0.0.0/8efe15718b4a50170c9add75b453aec13ec1c5216111d21815428536fe5913ca. Subsequent calls will reuse this data.\n"
          ]
        },
        {
          "data": {
            "application/vnd.jupyter.widget-view+json": {
              "model_id": "ccc7cc9247934564ba99f153a9e77a7c",
              "version_major": 2,
              "version_minor": 0
            },
            "text/plain": [
              "  0%|          | 0/3 [00:00<?, ?it/s]"
            ]
          },
          "metadata": {},
          "output_type": "display_data"
        }
      ],
      "source": [
        "iso639_3_letter_code_eng = \"eng\"\n",
        "\n",
        "# Download the language specific dataset from HF.\n",
        "dataset_eng = load_dataset(\"sil-ai/bloom-captioning\", iso639_3_letter_code_eng, \n",
        "                       use_auth_token=True, download_mode='force_redownload')"
      ]
    },
    {
      "cell_type": "code",
      "execution_count": 10,
      "metadata": {
        "gather": {
          "logged": 1668920867218
        },
        "jupyter": {
          "outputs_hidden": false,
          "source_hidden": false
        },
        "nteract": {
          "transient": {
            "deleting": false
          }
        }
      },
      "outputs": [
        {
          "data": {
            "text/plain": [
              "DatasetDict({\n",
              "    test: Dataset({\n",
              "        features: ['image_id', 'image_url', 'caption', 'story_id', 'album_id', 'license', 'original_bloom_language_tag', 'index_in_story'],\n",
              "        num_rows: 266\n",
              "    })\n",
              "    validation: Dataset({\n",
              "        features: ['image_id', 'image_url', 'caption', 'story_id', 'album_id', 'license', 'original_bloom_language_tag', 'index_in_story'],\n",
              "        num_rows: 396\n",
              "    })\n",
              "    train: Dataset({\n",
              "        features: ['image_id', 'image_url', 'caption', 'story_id', 'album_id', 'license', 'original_bloom_language_tag', 'index_in_story'],\n",
              "        num_rows: 27956\n",
              "    })\n",
              "})"
            ]
          },
          "execution_count": 10,
          "metadata": {},
          "output_type": "execute_result"
        }
      ],
      "source": [
        "dataset_eng"
      ]
    },
    {
      "cell_type": "markdown",
      "metadata": {
        "nteract": {
          "transient": {
            "deleting": false
          }
        }
      },
      "source": [
        "### Performing Google Translation of the english captio to Kyrgyz"
      ]
    },
    {
      "cell_type": "code",
      "execution_count": 11,
      "metadata": {
        "gather": {
          "logged": 1668920875447
        },
        "jupyter": {
          "outputs_hidden": false,
          "source_hidden": false
        },
        "nteract": {
          "transient": {
            "deleting": false
          }
        }
      },
      "outputs": [
        {
          "name": "stdout",
          "output_type": "stream",
          "text": [
            "kyrgyz\n"
          ]
        }
      ],
      "source": [
        "!pip install -q googletrans==3.1.0a0\n",
        "import googletrans\n",
        "import pandas as pd\n",
        "\n",
        "# Specifying Destination Language\n",
        "lang = 'ky' # For Kyrgyz\n",
        "# lang = 'ha' # For Hausa\n",
        "# lang = 'th' # For Thai\n",
        "\n",
        "print(googletrans.LANGUAGES[ lang ])\n",
        "\n",
        "from googletrans import Translator\n",
        "translator = Translator()"
      ]
    },
    {
      "cell_type": "code",
      "execution_count": 13,
      "metadata": {
        "gather": {
          "logged": 1668920897823
        },
        "jupyter": {
          "outputs_hidden": false,
          "source_hidden": false
        },
        "nteract": {
          "transient": {
            "deleting": false
          }
        }
      },
      "outputs": [],
      "source": [
        "# Creating Pandas dataframe out of the Dataset for translation purposes\n",
        "df_eng_train = pd.DataFrame.from_dict(dataset_eng['train'])\n",
        "df_eng_val = pd.DataFrame.from_dict(dataset_eng['validation'])"
      ]
    },
    {
      "cell_type": "markdown",
      "metadata": {
        "nteract": {
          "transient": {
            "deleting": false
          }
        }
      },
      "source": [
        "### Performing Google Translation of the english caption to Kyrgyz"
      ]
    },
    {
      "cell_type": "code",
      "execution_count": 14,
      "metadata": {
        "gather": {
          "logged": 1668921506380
        },
        "jupyter": {
          "outputs_hidden": false,
          "source_hidden": false
        },
        "nteract": {
          "transient": {
            "deleting": false
          }
        }
      },
      "outputs": [],
      "source": [
        "from multiprocessing import Pool, cpu_count\n",
        "\n",
        "def translate_to_lang(data):\n",
        "  result = translator.translate(data, dest= lang).text\n",
        "  return result\n",
        "# For Training data:\n",
        "with Pool(processes= cpu_count() ) as p:\n",
        "  ret = p.map(translate_to_lang, [cap for cap in df_eng_train['caption']])\n",
        "  df_eng_train['translated_caption'] = ret\n",
        "\n",
        "# For Validation data:\n",
        "with Pool(processes= cpu_count() ) as p:\n",
        "  ret = p.map(translate_to_lang, [cap for cap in df_eng_val['caption']])\n",
        "  df_eng_val['translated_caption'] = ret\n",
        "\n",
        "# This takes around 10 mins to run"
      ]
    },
    {
      "cell_type": "code",
      "execution_count": 15,
      "metadata": {
        "gather": {
          "logged": 1668921523214
        },
        "jupyter": {
          "outputs_hidden": false,
          "source_hidden": false
        },
        "nteract": {
          "transient": {
            "deleting": false
          }
        }
      },
      "outputs": [
        {
          "name": "stdout",
          "output_type": "stream",
          "text": [
            "So, Noah’s family had many children. And these children grew up, got married, and had children. People became numerous. Still, they all spoke one same language, the same as Noah.Genesis 11:1\n",
            "Ошентип, Нухтун үй-бүлөсү көп балалуу болгон. Ал эми бул балдар чоңоюп, үйлөнүп, балалуу болушту. Эл көбөйдү. Ошентсе да алардын баары бир тилде сүйлөшкөн, Нух (Башталыш 11:1).\n"
          ]
        }
      ],
      "source": [
        "# Testing sample translation\n",
        "\n",
        "en_cap = df_eng_train['caption'][1]\n",
        "ky_cap = df_eng_train['translated_caption'][1]\n",
        "print(en_cap)\n",
        "print(ky_cap)"
      ]
    },
    {
      "cell_type": "code",
      "execution_count": 16,
      "metadata": {
        "gather": {
          "logged": 1668921527969
        },
        "jupyter": {
          "outputs_hidden": false,
          "source_hidden": false
        },
        "nteract": {
          "transient": {
            "deleting": false
          }
        }
      },
      "outputs": [
        {
          "data": {
            "text/html": [
              "<div>\n",
              "<style scoped>\n",
              "    .dataframe tbody tr th:only-of-type {\n",
              "        vertical-align: middle;\n",
              "    }\n",
              "\n",
              "    .dataframe tbody tr th {\n",
              "        vertical-align: top;\n",
              "    }\n",
              "\n",
              "    .dataframe thead th {\n",
              "        text-align: right;\n",
              "    }\n",
              "</style>\n",
              "<table border=\"1\" class=\"dataframe\">\n",
              "  <thead>\n",
              "    <tr style=\"text-align: right;\">\n",
              "      <th></th>\n",
              "      <th>image_id</th>\n",
              "      <th>image_url</th>\n",
              "      <th>caption</th>\n",
              "      <th>story_id</th>\n",
              "      <th>album_id</th>\n",
              "      <th>license</th>\n",
              "      <th>original_bloom_language_tag</th>\n",
              "      <th>index_in_story</th>\n",
              "      <th>translated_caption</th>\n",
              "    </tr>\n",
              "  </thead>\n",
              "  <tbody>\n",
              "    <tr>\n",
              "      <th>0</th>\n",
              "      <td>3904f355-51f4-416a-ae86-820cd7584533</td>\n",
              "      <td>https://bloom-vist.s3.amazonaws.com/103%20Babe...</td>\n",
              "      <td>God told them, “Bear many children, so that yo...</td>\n",
              "      <td>6039ef03-b7d1-47aa-b2dc-53817e941461</td>\n",
              "      <td>d5fc6b14-8c63-4d95-a26b-3b7769115b10</td>\n",
              "      <td>cc-by-sa</td>\n",
              "      <td>en</td>\n",
              "      <td>0</td>\n",
              "      <td>Кудай аларга: «Көп балалуу болгула, ошондо сил...</td>\n",
              "    </tr>\n",
              "    <tr>\n",
              "      <th>1</th>\n",
              "      <td>65d7b9a0-962d-4314-a6d2-f022712eaac2</td>\n",
              "      <td>https://bloom-vist.s3.amazonaws.com/103%20Babe...</td>\n",
              "      <td>So, Noah’s family had many children. And these...</td>\n",
              "      <td>6039ef03-b7d1-47aa-b2dc-53817e941461</td>\n",
              "      <td>d5fc6b14-8c63-4d95-a26b-3b7769115b10</td>\n",
              "      <td>cc-by-sa</td>\n",
              "      <td>en</td>\n",
              "      <td>1</td>\n",
              "      <td>Ошентип, Нухтун үй-бүлөсү көп балалуу болгон. ...</td>\n",
              "    </tr>\n",
              "    <tr>\n",
              "      <th>2</th>\n",
              "      <td>a5ab567e-c3d8-44ea-87c8-88795a7ed429</td>\n",
              "      <td>https://bloom-vist.s3.amazonaws.com/103%20Babe...</td>\n",
              "      <td>People traveled east [toward the sunrise]. The...</td>\n",
              "      <td>6039ef03-b7d1-47aa-b2dc-53817e941461</td>\n",
              "      <td>d5fc6b14-8c63-4d95-a26b-3b7769115b10</td>\n",
              "      <td>cc-by-sa</td>\n",
              "      <td>en</td>\n",
              "      <td>2</td>\n",
              "      <td>Адамдар чыгышты [күн чыгышты көздөй] жолго чыг...</td>\n",
              "    </tr>\n",
              "    <tr>\n",
              "      <th>3</th>\n",
              "      <td>51aa825d-3771-4b0c-8905-c2e64542bd2f</td>\n",
              "      <td>https://bloom-vist.s3.amazonaws.com/103%20Babe...</td>\n",
              "      <td>The people said to each other, “We will shape ...</td>\n",
              "      <td>6039ef03-b7d1-47aa-b2dc-53817e941461</td>\n",
              "      <td>d5fc6b14-8c63-4d95-a26b-3b7769115b10</td>\n",
              "      <td>cc-by-sa</td>\n",
              "      <td>en</td>\n",
              "      <td>3</td>\n",
              "      <td>Эл бири-бирине: «Биз ылайдан жасалган кирпичте...</td>\n",
              "    </tr>\n",
              "    <tr>\n",
              "      <th>4</th>\n",
              "      <td>22b17fc0-b92a-4b8f-8f05-2f2fbcf33585</td>\n",
              "      <td>https://bloom-vist.s3.amazonaws.com/103%20Babe...</td>\n",
              "      <td>“We will [must] build a very big city [many st...</td>\n",
              "      <td>6039ef03-b7d1-47aa-b2dc-53817e941461</td>\n",
              "      <td>d5fc6b14-8c63-4d95-a26b-3b7769115b10</td>\n",
              "      <td>cc-by-sa</td>\n",
              "      <td>en</td>\n",
              "      <td>4</td>\n",
              "      <td>«Биз өзүбүз үчүн абдан чоң шаарды [көптөгөн кү...</td>\n",
              "    </tr>\n",
              "  </tbody>\n",
              "</table>\n",
              "</div>"
            ],
            "text/plain": [
              "                               image_id  \\\n",
              "0  3904f355-51f4-416a-ae86-820cd7584533   \n",
              "1  65d7b9a0-962d-4314-a6d2-f022712eaac2   \n",
              "2  a5ab567e-c3d8-44ea-87c8-88795a7ed429   \n",
              "3  51aa825d-3771-4b0c-8905-c2e64542bd2f   \n",
              "4  22b17fc0-b92a-4b8f-8f05-2f2fbcf33585   \n",
              "\n",
              "                                           image_url  \\\n",
              "0  https://bloom-vist.s3.amazonaws.com/103%20Babe...   \n",
              "1  https://bloom-vist.s3.amazonaws.com/103%20Babe...   \n",
              "2  https://bloom-vist.s3.amazonaws.com/103%20Babe...   \n",
              "3  https://bloom-vist.s3.amazonaws.com/103%20Babe...   \n",
              "4  https://bloom-vist.s3.amazonaws.com/103%20Babe...   \n",
              "\n",
              "                                             caption  \\\n",
              "0  God told them, “Bear many children, so that yo...   \n",
              "1  So, Noah’s family had many children. And these...   \n",
              "2  People traveled east [toward the sunrise]. The...   \n",
              "3  The people said to each other, “We will shape ...   \n",
              "4  “We will [must] build a very big city [many st...   \n",
              "\n",
              "                               story_id                              album_id  \\\n",
              "0  6039ef03-b7d1-47aa-b2dc-53817e941461  d5fc6b14-8c63-4d95-a26b-3b7769115b10   \n",
              "1  6039ef03-b7d1-47aa-b2dc-53817e941461  d5fc6b14-8c63-4d95-a26b-3b7769115b10   \n",
              "2  6039ef03-b7d1-47aa-b2dc-53817e941461  d5fc6b14-8c63-4d95-a26b-3b7769115b10   \n",
              "3  6039ef03-b7d1-47aa-b2dc-53817e941461  d5fc6b14-8c63-4d95-a26b-3b7769115b10   \n",
              "4  6039ef03-b7d1-47aa-b2dc-53817e941461  d5fc6b14-8c63-4d95-a26b-3b7769115b10   \n",
              "\n",
              "    license original_bloom_language_tag  index_in_story  \\\n",
              "0  cc-by-sa                          en               0   \n",
              "1  cc-by-sa                          en               1   \n",
              "2  cc-by-sa                          en               2   \n",
              "3  cc-by-sa                          en               3   \n",
              "4  cc-by-sa                          en               4   \n",
              "\n",
              "                                  translated_caption  \n",
              "0  Кудай аларга: «Көп балалуу болгула, ошондо сил...  \n",
              "1  Ошентип, Нухтун үй-бүлөсү көп балалуу болгон. ...  \n",
              "2  Адамдар чыгышты [күн чыгышты көздөй] жолго чыг...  \n",
              "3  Эл бири-бирине: «Биз ылайдан жасалган кирпичте...  \n",
              "4  «Биз өзүбүз үчүн абдан чоң шаарды [көптөгөн кү...  "
            ]
          },
          "execution_count": 16,
          "metadata": {},
          "output_type": "execute_result"
        }
      ],
      "source": [
        "df_eng_train.head()"
      ]
    },
    {
      "cell_type": "markdown",
      "metadata": {
        "nteract": {
          "transient": {
            "deleting": false
          }
        }
      },
      "source": [
        "## Preparing Additional Data by Merging"
      ]
    },
    {
      "cell_type": "code",
      "execution_count": 17,
      "metadata": {
        "gather": {
          "logged": 1668921531347
        },
        "jupyter": {
          "outputs_hidden": false,
          "source_hidden": false
        },
        "nteract": {
          "transient": {
            "deleting": false
          }
        }
      },
      "outputs": [
        {
          "name": "stdout",
          "output_type": "stream",
          "text": [
            "(31875, 8)\n",
            "(447, 8)\n"
          ]
        }
      ],
      "source": [
        "col_arrng = ['image_id', 'image_url', 'caption', 'story_id', 'album_id', 'license','original_bloom_language_tag', 'index_in_story']\n",
        "\n",
        "# For Traning Data\n",
        "df_engtokir_train = df_eng_train.drop(['caption'], axis=1)\n",
        "df_engtokir_train = df_engtokir_train.rename(columns={'translated_caption':'caption'})\n",
        "df_engtokir_train['original_bloom_language_tag'] = lang\n",
        "df_engtokir_train = df_engtokir_train[col_arrng]\n",
        "\n",
        "# For Validation Data\n",
        "df_engtokir_val = df_eng_val.drop(['caption'], axis=1)\n",
        "df_engtokir_val = df_engtokir_val.rename(columns={'translated_caption':'caption'})\n",
        "df_engtokir_val['original_bloom_language_tag'] = lang\n",
        "df_engtokir_val = df_engtokir_val[col_arrng]\n",
        "\n",
        "# Merging Traing Data\n",
        "merge_df_train = pd.concat([df_kir_train, df_engtokir_train], axis=0)\n",
        "print(merge_df_train.shape)\n",
        "\n",
        "# Merging Validation Data\n",
        "merge_df_val = pd.concat([df_kir_val, df_engtokir_val], axis=0)\n",
        "print(merge_df_val.shape)"
      ]
    },
    {
      "cell_type": "code",
      "execution_count": 18,
      "metadata": {
        "gather": {
          "logged": 1668921536324
        },
        "jupyter": {
          "outputs_hidden": false,
          "source_hidden": false
        },
        "nteract": {
          "transient": {
            "deleting": false
          }
        }
      },
      "outputs": [
        {
          "data": {
            "text/html": [
              "<div>\n",
              "<style scoped>\n",
              "    .dataframe tbody tr th:only-of-type {\n",
              "        vertical-align: middle;\n",
              "    }\n",
              "\n",
              "    .dataframe tbody tr th {\n",
              "        vertical-align: top;\n",
              "    }\n",
              "\n",
              "    .dataframe thead th {\n",
              "        text-align: right;\n",
              "    }\n",
              "</style>\n",
              "<table border=\"1\" class=\"dataframe\">\n",
              "  <thead>\n",
              "    <tr style=\"text-align: right;\">\n",
              "      <th></th>\n",
              "      <th>image_id</th>\n",
              "      <th>image_url</th>\n",
              "      <th>caption</th>\n",
              "      <th>story_id</th>\n",
              "      <th>album_id</th>\n",
              "      <th>license</th>\n",
              "      <th>original_bloom_language_tag</th>\n",
              "      <th>index_in_story</th>\n",
              "    </tr>\n",
              "  </thead>\n",
              "  <tbody>\n",
              "    <tr>\n",
              "      <th>0</th>\n",
              "      <td>908d990f-58c8-4970-866b-2593c3b20c0c</td>\n",
              "      <td>https://bloom-vist.s3.amazonaws.com/%D0%A3%D0%...</td>\n",
              "      <td>Фермада Дейзи аттуу жөжө жашачу.</td>\n",
              "      <td>a3669526-494b-4d6c-b3a3-5f744a46ed2e</td>\n",
              "      <td>f600fc2a-e715-471a-b42a-b09bc9205ca1</td>\n",
              "      <td>cc-by-nc</td>\n",
              "      <td>ky</td>\n",
              "      <td>0</td>\n",
              "    </tr>\n",
              "    <tr>\n",
              "      <th>1</th>\n",
              "      <td>bce2850b-4bb0-4b7a-9666-d3624b8ea7b6</td>\n",
              "      <td>https://bloom-vist.s3.amazonaws.com/%D0%A3%D0%...</td>\n",
              "      <td>– Мен чоңойгондо асманга жетип, бийик-бийик уч...</td>\n",
              "      <td>a3669526-494b-4d6c-b3a3-5f744a46ed2e</td>\n",
              "      <td>f600fc2a-e715-471a-b42a-b09bc9205ca1</td>\n",
              "      <td>cc-by-nc</td>\n",
              "      <td>ky</td>\n",
              "      <td>1</td>\n",
              "    </tr>\n",
              "    <tr>\n",
              "      <th>2</th>\n",
              "      <td>532f169b-4960-4315-8f4b-f52cea9d23dc</td>\n",
              "      <td>https://bloom-vist.s3.amazonaws.com/%D0%A3%D0%...</td>\n",
              "      <td>Бирок башка жөжөлөр анын шылдың кылышчу.</td>\n",
              "      <td>a3669526-494b-4d6c-b3a3-5f744a46ed2e</td>\n",
              "      <td>f600fc2a-e715-471a-b42a-b09bc9205ca1</td>\n",
              "      <td>cc-by-nc</td>\n",
              "      <td>ky</td>\n",
              "      <td>2</td>\n",
              "    </tr>\n",
              "    <tr>\n",
              "      <th>3</th>\n",
              "      <td>a0f8ad11-fdf9-4753-8ebf-9f1dd9190e11</td>\n",
              "      <td>https://bloom-vist.s3.amazonaws.com/%D0%A3%D0%...</td>\n",
              "      <td>– Сен бир кызыктай жөжө экенсиң! Биз сени мене...</td>\n",
              "      <td>a3669526-494b-4d6c-b3a3-5f744a46ed2e</td>\n",
              "      <td>f600fc2a-e715-471a-b42a-b09bc9205ca1</td>\n",
              "      <td>cc-by-nc</td>\n",
              "      <td>ky</td>\n",
              "      <td>3</td>\n",
              "    </tr>\n",
              "    <tr>\n",
              "      <th>4</th>\n",
              "      <td>a60e06b5-0553-4134-82e8-f2e84dc65cbf</td>\n",
              "      <td>https://bloom-vist.s3.amazonaws.com/%D0%A3%D0%...</td>\n",
              "      <td>– Дейзи, бардыгыбыз эле канат какканды билебиз...</td>\n",
              "      <td>a3669526-494b-4d6c-b3a3-5f744a46ed2e</td>\n",
              "      <td>f600fc2a-e715-471a-b42a-b09bc9205ca1</td>\n",
              "      <td>cc-by-nc</td>\n",
              "      <td>ky</td>\n",
              "      <td>4</td>\n",
              "    </tr>\n",
              "  </tbody>\n",
              "</table>\n",
              "</div>"
            ],
            "text/plain": [
              "                               image_id  \\\n",
              "0  908d990f-58c8-4970-866b-2593c3b20c0c   \n",
              "1  bce2850b-4bb0-4b7a-9666-d3624b8ea7b6   \n",
              "2  532f169b-4960-4315-8f4b-f52cea9d23dc   \n",
              "3  a0f8ad11-fdf9-4753-8ebf-9f1dd9190e11   \n",
              "4  a60e06b5-0553-4134-82e8-f2e84dc65cbf   \n",
              "\n",
              "                                           image_url  \\\n",
              "0  https://bloom-vist.s3.amazonaws.com/%D0%A3%D0%...   \n",
              "1  https://bloom-vist.s3.amazonaws.com/%D0%A3%D0%...   \n",
              "2  https://bloom-vist.s3.amazonaws.com/%D0%A3%D0%...   \n",
              "3  https://bloom-vist.s3.amazonaws.com/%D0%A3%D0%...   \n",
              "4  https://bloom-vist.s3.amazonaws.com/%D0%A3%D0%...   \n",
              "\n",
              "                                             caption  \\\n",
              "0                   Фермада Дейзи аттуу жөжө жашачу.   \n",
              "1  – Мен чоңойгондо асманга жетип, бийик-бийик уч...   \n",
              "2           Бирок башка жөжөлөр анын шылдың кылышчу.   \n",
              "3  – Сен бир кызыктай жөжө экенсиң! Биз сени мене...   \n",
              "4  – Дейзи, бардыгыбыз эле канат какканды билебиз...   \n",
              "\n",
              "                               story_id                              album_id  \\\n",
              "0  a3669526-494b-4d6c-b3a3-5f744a46ed2e  f600fc2a-e715-471a-b42a-b09bc9205ca1   \n",
              "1  a3669526-494b-4d6c-b3a3-5f744a46ed2e  f600fc2a-e715-471a-b42a-b09bc9205ca1   \n",
              "2  a3669526-494b-4d6c-b3a3-5f744a46ed2e  f600fc2a-e715-471a-b42a-b09bc9205ca1   \n",
              "3  a3669526-494b-4d6c-b3a3-5f744a46ed2e  f600fc2a-e715-471a-b42a-b09bc9205ca1   \n",
              "4  a3669526-494b-4d6c-b3a3-5f744a46ed2e  f600fc2a-e715-471a-b42a-b09bc9205ca1   \n",
              "\n",
              "    license original_bloom_language_tag  index_in_story  \n",
              "0  cc-by-nc                          ky               0  \n",
              "1  cc-by-nc                          ky               1  \n",
              "2  cc-by-nc                          ky               2  \n",
              "3  cc-by-nc                          ky               3  \n",
              "4  cc-by-nc                          ky               4  "
            ]
          },
          "execution_count": 18,
          "metadata": {},
          "output_type": "execute_result"
        }
      ],
      "source": [
        "merge_df_val.head()"
      ]
    },
    {
      "cell_type": "markdown",
      "metadata": {
        "nteract": {
          "transient": {
            "deleting": false
          }
        }
      },
      "source": [
        "### Converting the Merged Data to Dataset for further processing"
      ]
    },
    {
      "cell_type": "code",
      "execution_count": 26,
      "metadata": {
        "gather": {
          "logged": 1668906246227
        },
        "jupyter": {
          "outputs_hidden": false,
          "source_hidden": false
        },
        "nteract": {
          "transient": {
            "deleting": false
          }
        }
      },
      "outputs": [],
      "source": [
        "# merge_df_train.to_csv('Merged_Train_kir_data.csv')\n",
        "# merge_df_val.to_csv('Merged_Val_kir_data.csv')\n",
        "# df_kir_test.to_csv('Test_kir_data.csv')"
      ]
    },
    {
      "cell_type": "code",
      "execution_count": 19,
      "metadata": {
        "gather": {
          "logged": 1668921544542
        },
        "jupyter": {
          "outputs_hidden": false,
          "source_hidden": false
        },
        "nteract": {
          "transient": {
            "deleting": false
          }
        }
      },
      "outputs": [],
      "source": [
        "from datasets import Dataset, DatasetDict\n",
        "traindf = Dataset.from_pandas(merge_df_train)\n",
        "testdf = Dataset.from_pandas(df_kir_test)\n",
        "valdf = Dataset.from_pandas(merge_df_val)\n",
        "\n",
        "df = DatasetDict()\n",
        "\n",
        "df['test'] = testdf\n",
        "df['validation'] = valdf\n",
        "df['train'] = traindf"
      ]
    },
    {
      "cell_type": "code",
      "execution_count": 20,
      "metadata": {
        "gather": {
          "logged": 1668921550817
        },
        "jupyter": {
          "outputs_hidden": false,
          "source_hidden": false
        },
        "nteract": {
          "transient": {
            "deleting": false
          }
        }
      },
      "outputs": [
        {
          "data": {
            "text/plain": [
              "DatasetDict({\n",
              "    test: Dataset({\n",
              "        features: ['image_id', 'image_url', 'caption', 'story_id', 'album_id', 'license', 'original_bloom_language_tag', 'index_in_story'],\n",
              "        num_rows: 56\n",
              "    })\n",
              "    validation: Dataset({\n",
              "        features: ['image_id', 'image_url', 'caption', 'story_id', 'album_id', 'license', 'original_bloom_language_tag', 'index_in_story', '__index_level_0__'],\n",
              "        num_rows: 447\n",
              "    })\n",
              "    train: Dataset({\n",
              "        features: ['image_id', 'image_url', 'caption', 'story_id', 'album_id', 'license', 'original_bloom_language_tag', 'index_in_story', '__index_level_0__'],\n",
              "        num_rows: 31875\n",
              "    })\n",
              "})"
            ]
          },
          "execution_count": 20,
          "metadata": {},
          "output_type": "execute_result"
        }
      ],
      "source": [
        "dataset = df\n",
        "dataset"
      ]
    },
    {
      "cell_type": "markdown",
      "metadata": {
        "nteract": {
          "transient": {
            "deleting": false
          }
        }
      },
      "source": [
        "# Data Fetching and Preprocessing"
      ]
    },
    {
      "cell_type": "code",
      "execution_count": 21,
      "metadata": {
        "execution": {
          "iopub.execute_input": "2022-11-19T17:43:31.741704Z",
          "iopub.status.busy": "2022-11-19T17:43:31.741055Z",
          "iopub.status.idle": "2022-11-19T17:51:35.820244Z",
          "shell.execute_reply": "2022-11-19T17:51:35.819238Z",
          "shell.execute_reply.started": "2022-11-19T17:43:31.741666Z"
        },
        "gather": {
          "logged": 1668922867897
        },
        "trusted": true
      },
      "outputs": [
        {
          "name": "stderr",
          "output_type": "stream",
          "text": [
            "Parameter 'function'=<function fetch_images at 0x7fb2aa9e03a0> of the transform datasets.arrow_dataset.Dataset._map_single couldn't be hashed properly, a random hash was used instead. Make sure your transforms and parameters are serializable with pickle or dill for the dataset fingerprinting and caching to work. If you reuse this transform, the caching mechanism will consider it to be different from the previous calls and recompute everything. This warning is only showed once. Subsequent hashing failures won't be showed.\n"
          ]
        },
        {
          "data": {
            "application/vnd.jupyter.widget-view+json": {
              "model_id": "f437597acd7f4bc4b1d8f45edfa39acc",
              "version_major": 2,
              "version_minor": 0
            },
            "text/plain": [
              "  0%|          | 0/1 [00:00<?, ?ba/s]"
            ]
          },
          "metadata": {},
          "output_type": "display_data"
        },
        {
          "data": {
            "application/vnd.jupyter.widget-view+json": {
              "model_id": "bb9b7f7190e94281822f33b337f66d29",
              "version_major": 2,
              "version_minor": 0
            },
            "text/plain": [
              "  0%|          | 0/5 [00:00<?, ?ba/s]"
            ]
          },
          "metadata": {},
          "output_type": "display_data"
        },
        {
          "data": {
            "application/vnd.jupyter.widget-view+json": {
              "model_id": "f84f480e53284421ad440dd0ddc9a1d6",
              "version_major": 2,
              "version_minor": 0
            },
            "text/plain": [
              "  0%|          | 0/319 [00:00<?, ?ba/s]"
            ]
          },
          "metadata": {},
          "output_type": "display_data"
        }
      ],
      "source": [
        "! rm -rf images\n",
        "! mkdir images\n",
        "\n",
        "USER_AGENT = get_datasets_user_agent()\n",
        "\n",
        "def fetch_single_image(image_url, timeout=None, retries=0):\n",
        "    request = urllib.request.Request(\n",
        "        image_url,\n",
        "        data=None,\n",
        "        headers={\"user-agent\": USER_AGENT},\n",
        "    )\n",
        "    with urllib.request.urlopen(request, timeout=timeout) as req:\n",
        "        if 'png' in image_url:\n",
        "          png = Image.open(io.BytesIO(req.read())).convert('RGBA')\n",
        "          png.load() # required for png.split()\n",
        "          background = Image.new(\"RGB\", png.size, (255, 255, 255))\n",
        "          background.paste(png, mask=png.split()[3]) # 3 is the alpha channel\n",
        "          image_id = str(uuid.uuid4())\n",
        "          image_path = \"images/\" + image_id + \".jpg\"\n",
        "          background.save(image_path, 'JPEG', quality=80)\n",
        "        else:\n",
        "          image = Image.open(io.BytesIO(req.read()))\n",
        "          image_id = str(uuid.uuid4())\n",
        "          image_path = \"images/\" + image_id + \".jpg\"\n",
        "          image.save(image_path)\n",
        "    return image_path\n",
        "\n",
        "def fetch_images(batch, num_threads, timeout=None, retries=3):\n",
        "    fetch_single_image_with_args = partial(fetch_single_image, timeout=timeout, retries=retries)\n",
        "    with ThreadPoolExecutor(max_workers=num_threads) as executor:\n",
        "        batch[\"image_path\"] = list(executor.map(fetch_single_image_with_args, batch[\"image_url\"]))\n",
        "    return batch\n",
        "\n",
        "num_threads = 12\n",
        "dataset = dataset.map(fetch_images, batched=True, batch_size=100, fn_kwargs={\"num_threads\": num_threads})"
      ]
    },
    {
      "cell_type": "code",
      "execution_count": 23,
      "metadata": {
        "gather": {
          "logged": 1668923003306
        },
        "jupyter": {
          "outputs_hidden": false,
          "source_hidden": false
        },
        "nteract": {
          "transient": {
            "deleting": false
          }
        }
      },
      "outputs": [],
      "source": [
        "# # Saving processed dataset as pickle file\n",
        "# import pickle\n",
        "\n",
        "# with open('dataset.pickle', 'wb') as f:\n",
        "#     pickle.dump(dataset, f)"
      ]
    },
    {
      "cell_type": "code",
      "execution_count": 5,
      "metadata": {
        "gather": {
          "logged": 1668926639606
        },
        "jupyter": {
          "outputs_hidden": false,
          "source_hidden": false
        },
        "nteract": {
          "transient": {
            "deleting": false
          }
        }
      },
      "outputs": [],
      "source": [
        "# # Reading from Pickle Dataset File\n",
        "# import pickle\n",
        "\n",
        "# with open('dataset.pickle', 'rb') as f:\n",
        "#     dataset = pickle.load(f)"
      ]
    },
    {
      "cell_type": "code",
      "execution_count": 7,
      "metadata": {
        "gather": {
          "logged": 1668926693435
        },
        "jupyter": {
          "outputs_hidden": false,
          "source_hidden": false
        },
        "nteract": {
          "transient": {
            "deleting": false
          }
        }
      },
      "outputs": [
        {
          "data": {
            "text/plain": [
              "DatasetDict({\n",
              "    test: Dataset({\n",
              "        features: ['image_id', 'image_url', 'caption', 'story_id', 'album_id', 'license', 'original_bloom_language_tag', 'index_in_story', 'image_path'],\n",
              "        num_rows: 56\n",
              "    })\n",
              "    validation: Dataset({\n",
              "        features: ['image_id', 'image_url', 'caption', 'story_id', 'album_id', 'license', 'original_bloom_language_tag', 'index_in_story', '__index_level_0__', 'image_path'],\n",
              "        num_rows: 447\n",
              "    })\n",
              "    train: Dataset({\n",
              "        features: ['image_id', 'image_url', 'caption', 'story_id', 'album_id', 'license', 'original_bloom_language_tag', 'index_in_story', '__index_level_0__', 'image_path'],\n",
              "        num_rows: 31875\n",
              "    })\n",
              "})"
            ]
          },
          "execution_count": 7,
          "metadata": {},
          "output_type": "execute_result"
        }
      ],
      "source": [
        "dataset"
      ]
    },
    {
      "cell_type": "code",
      "execution_count": 8,
      "metadata": {
        "gather": {
          "logged": 1668926704822
        },
        "jupyter": {
          "outputs_hidden": false,
          "source_hidden": false
        },
        "nteract": {
          "transient": {
            "deleting": false
          }
        }
      },
      "outputs": [],
      "source": [
        "image_model = tf.keras.applications.InceptionV3(include_top=False, weights='imagenet')\n",
        "new_input = image_model.input\n",
        "hidden_layer = image_model.layers[-1].output\n",
        "\n",
        "image_features_extract_model = tf.keras.Model(new_input, hidden_layer)"
      ]
    },
    {
      "cell_type": "code",
      "execution_count": 9,
      "metadata": {
        "execution": {
          "iopub.execute_input": "2022-11-19T17:51:39.170945Z",
          "iopub.status.busy": "2022-11-19T17:51:39.170671Z",
          "iopub.status.idle": "2022-11-19T17:51:39.176290Z",
          "shell.execute_reply": "2022-11-19T17:51:39.175307Z",
          "shell.execute_reply.started": "2022-11-19T17:51:39.170920Z"
        },
        "gather": {
          "logged": 1668926709736
        },
        "trusted": true
      },
      "outputs": [],
      "source": [
        "def load_image(image_path):\n",
        "    img = tf.io.read_file(image_path)\n",
        "    img = tf.io.decode_jpeg(img, channels=3)\n",
        "    img = tf.keras.layers.Resizing(299, 299)(img)\n",
        "    img = tf.keras.applications.inception_v3.preprocess_input(img)\n",
        "    return img, image_path"
      ]
    },
    {
      "cell_type": "code",
      "execution_count": 12,
      "metadata": {
        "execution": {
          "iopub.execute_input": "2022-11-19T17:51:39.178501Z",
          "iopub.status.busy": "2022-11-19T17:51:39.177870Z",
          "iopub.status.idle": "2022-11-19T17:52:37.130691Z",
          "shell.execute_reply": "2022-11-19T17:52:37.129621Z",
          "shell.execute_reply.started": "2022-11-19T17:51:39.178461Z"
        },
        "gather": {
          "logged": 1668928963587
        },
        "trusted": true
      },
      "outputs": [
        {
          "name": "stderr",
          "output_type": "stream",
          "text": [
            "100%|██████████| 1993/1993 [35:46<00:00,  1.08s/it]\n",
            "100%|██████████| 4/4 [00:04<00:00,  1.18s/it]\n"
          ]
        }
      ],
      "source": [
        "# Get unique train images\n",
        "encode_train = sorted(set(dataset['train']['image_path']))\n",
        "\n",
        "# Feel free to change batch_size according to your system configuration\n",
        "image_dataset = tf.data.Dataset.from_tensor_slices(encode_train)\n",
        "image_dataset = image_dataset.map(load_image, num_parallel_calls=tf.data.AUTOTUNE).batch(16)\n",
        "\n",
        "for img, path in tqdm(image_dataset):\n",
        "  batch_features = image_features_extract_model(img)\n",
        "  batch_features = tf.reshape(batch_features,\n",
        "                              (batch_features.shape[0], -1, batch_features.shape[3]))\n",
        "\n",
        "  for bf, p in zip(batch_features, path):\n",
        "    path_of_feature = p.numpy().decode(\"utf-8\")\n",
        "    np.save(path_of_feature, bf.numpy())\n",
        "\n",
        "# Get unique test images\n",
        "encode_test = sorted(set(dataset['test']['image_path']))\n",
        "\n",
        "# Feel free to change batch_size according to your system configuration\n",
        "image_dataset_test = tf.data.Dataset.from_tensor_slices(encode_test)\n",
        "image_dataset_test = image_dataset_test.map(load_image, num_parallel_calls=tf.data.AUTOTUNE).batch(16)\n",
        "\n",
        "for img, path in tqdm(image_dataset_test):\n",
        "  batch_features = image_features_extract_model(img)\n",
        "  batch_features = tf.reshape(batch_features,\n",
        "                              (batch_features.shape[0], -1, batch_features.shape[3]))\n",
        "\n",
        "  for bf, p in zip(batch_features, path):\n",
        "    path_of_feature = p.numpy().decode(\"utf-8\")\n",
        "    np.save(path_of_feature, bf.numpy())"
      ]
    },
    {
      "cell_type": "code",
      "execution_count": 13,
      "metadata": {
        "execution": {
          "iopub.execute_input": "2022-11-19T17:52:37.132634Z",
          "iopub.status.busy": "2022-11-19T17:52:37.132155Z",
          "iopub.status.idle": "2022-11-19T17:52:37.155576Z",
          "shell.execute_reply": "2022-11-19T17:52:37.154719Z",
          "shell.execute_reply.started": "2022-11-19T17:52:37.132596Z"
        },
        "gather": {
          "logged": 1668928968343
        },
        "trusted": true
      },
      "outputs": [],
      "source": [
        "# Add some special tokens and clean up new line characters.\n",
        "train_captions = [f\"<start> {x} <end>\" for x in dataset['train']['caption']]\n",
        "train_captions = [x.replace('\\n', ' ') for x in train_captions]\n",
        "test_captions = [f\"<start> {x} <end>\" for x in dataset['test']['caption']]\n",
        "test_captions = [x.replace('\\n', ' ') for x in test_captions]"
      ]
    },
    {
      "cell_type": "code",
      "execution_count": 14,
      "metadata": {
        "execution": {
          "iopub.execute_input": "2022-11-19T17:52:37.159065Z",
          "iopub.status.busy": "2022-11-19T17:52:37.158807Z",
          "iopub.status.idle": "2022-11-19T17:52:42.285343Z",
          "shell.execute_reply": "2022-11-19T17:52:42.284378Z",
          "shell.execute_reply.started": "2022-11-19T17:52:37.159040Z"
        },
        "gather": {
          "logged": 1668929023648
        },
        "trusted": true
      },
      "outputs": [],
      "source": [
        "caption_dataset = tf.data.Dataset.from_tensor_slices(train_captions)\n",
        "\n",
        "# We will override the default standardization of TextVectorization to preserve\n",
        "# \"<>\" characters, so we preserve the tokens for the <start> and <end>.\n",
        "def standardize(inputs):\n",
        "  inputs = tf.strings.lower(inputs)\n",
        "  return tf.strings.regex_replace(inputs,\n",
        "                                  r\"!\\\"#$%&\\(\\)\\*\\+.,-/:;=?@\\[\\\\\\]^_`{|}~\", \"\")\n",
        "\n",
        "# Max word count for a caption.\n",
        "max_length = 25\n",
        "# Use the top 5000 words for a vocabulary.\n",
        "vocabulary_size = 5000\n",
        "tokenizer = tf.keras.layers.TextVectorization(\n",
        "    max_tokens=vocabulary_size,\n",
        "    standardize=standardize,\n",
        "    output_sequence_length=max_length)\n",
        "# Learn the vocabulary from the caption data.\n",
        "tokenizer.adapt(caption_dataset)\n",
        "\n",
        "# Create the tokenized vectors\n",
        "cap_vector = caption_dataset.map(lambda x: tokenizer(x))\n",
        "\n",
        "# Create mappings for words to indices and indicies to words.\n",
        "word_to_index = tf.keras.layers.StringLookup(\n",
        "    mask_token=\"\",\n",
        "    vocabulary=tokenizer.get_vocabulary())\n",
        "index_to_word = tf.keras.layers.StringLookup(\n",
        "    mask_token=\"\",\n",
        "    vocabulary=tokenizer.get_vocabulary(),\n",
        "    invert=True)\n",
        "\n",
        "caption_dataset_test = tf.data.Dataset.from_tensor_slices(test_captions)\n",
        "cap_vector_test = caption_dataset_test.map(lambda x: tokenizer(x))"
      ]
    },
    {
      "cell_type": "code",
      "execution_count": 15,
      "metadata": {
        "execution": {
          "iopub.execute_input": "2022-11-19T17:52:42.288079Z",
          "iopub.status.busy": "2022-11-19T17:52:42.287724Z",
          "iopub.status.idle": "2022-11-19T17:52:43.853606Z",
          "shell.execute_reply": "2022-11-19T17:52:43.852620Z",
          "shell.execute_reply.started": "2022-11-19T17:52:42.288046Z"
        },
        "gather": {
          "logged": 1668929040159
        },
        "trusted": true
      },
      "outputs": [],
      "source": [
        "# Create some mas between images, vectors, and captions\n",
        "img_to_cap_vector = collections.defaultdict(list)\n",
        "for img, cap in zip(dataset['train']['image_path'], cap_vector):\n",
        "  img_to_cap_vector[img].append(cap)\n",
        "\n",
        "img_name_train = []\n",
        "cap_train = []\n",
        "for imgt in list(img_to_cap_vector.keys()):\n",
        "  capt_len = len(img_to_cap_vector[imgt])\n",
        "  img_name_train.extend([imgt] * capt_len)\n",
        "  cap_train.extend(img_to_cap_vector[imgt])\n",
        "\n",
        "img_to_cap_vector_test = collections.defaultdict(list)\n",
        "for img, cap in zip(dataset['test']['image_path'], cap_vector_test):\n",
        "  img_to_cap_vector_test[img].append(cap)\n",
        "\n",
        "img_name_test = []\n",
        "cap_test = []\n",
        "for imgv in list(img_to_cap_vector_test.keys()):\n",
        "  capv_len = len(img_to_cap_vector_test[imgv])\n",
        "  img_name_test.extend([imgv] * capv_len)\n",
        "  cap_test.extend(img_to_cap_vector_test[imgv])"
      ]
    },
    {
      "cell_type": "code",
      "execution_count": 16,
      "metadata": {
        "execution": {
          "iopub.execute_input": "2022-11-19T17:52:43.855362Z",
          "iopub.status.busy": "2022-11-19T17:52:43.854999Z",
          "iopub.status.idle": "2022-11-19T17:52:43.861492Z",
          "shell.execute_reply": "2022-11-19T17:52:43.860622Z",
          "shell.execute_reply.started": "2022-11-19T17:52:43.855326Z"
        },
        "gather": {
          "logged": 1668929051521
        },
        "trusted": true
      },
      "outputs": [],
      "source": [
        "# Feel free to change these parameters according to your system's configuration\n",
        "BATCH_SIZE = 64\n",
        "BUFFER_SIZE = 1000\n",
        "embedding_dim = 1024\n",
        "units = 512\n",
        "num_steps = len(img_name_train) // BATCH_SIZE\n",
        "\n",
        "# Shape of the vector extracted from InceptionV3 is (64, 2048)\n",
        "# These two variables represent that vector shape\n",
        "features_shape = 2048\n",
        "attention_features_shape = 64"
      ]
    },
    {
      "cell_type": "code",
      "execution_count": 17,
      "metadata": {
        "execution": {
          "iopub.execute_input": "2022-11-19T17:52:43.866115Z",
          "iopub.status.busy": "2022-11-19T17:52:43.865804Z",
          "iopub.status.idle": "2022-11-19T17:52:43.872138Z",
          "shell.execute_reply": "2022-11-19T17:52:43.871044Z",
          "shell.execute_reply.started": "2022-11-19T17:52:43.866080Z"
        },
        "gather": {
          "logged": 1668929056202
        },
        "trusted": true
      },
      "outputs": [],
      "source": [
        "# Load the numpy files\n",
        "def map_func(img_name, cap):\n",
        "  img_tensor = np.load(img_name.decode('utf-8')+'.npy')\n",
        "  return img_tensor, cap"
      ]
    },
    {
      "cell_type": "code",
      "execution_count": 18,
      "metadata": {
        "execution": {
          "iopub.execute_input": "2022-11-19T17:52:43.873626Z",
          "iopub.status.busy": "2022-11-19T17:52:43.873275Z",
          "iopub.status.idle": "2022-11-19T17:52:44.032693Z",
          "shell.execute_reply": "2022-11-19T17:52:44.031808Z",
          "shell.execute_reply.started": "2022-11-19T17:52:43.873578Z"
        },
        "gather": {
          "logged": 1668929067260
        },
        "trusted": true
      },
      "outputs": [],
      "source": [
        "dataset_tf = tf.data.Dataset.from_tensor_slices((img_name_train, cap_train))\n",
        "\n",
        "# Use map to load the numpy files in parallel\n",
        "dataset_tf = dataset_tf.map(lambda item1, item2: tf.numpy_function(\n",
        "          map_func, [item1, item2], [tf.float32, tf.int64]),\n",
        "          num_parallel_calls=tf.data.AUTOTUNE)\n",
        "\n",
        "# Shuffle and batch\n",
        "dataset_tf = dataset_tf.shuffle(BUFFER_SIZE).batch(BATCH_SIZE)\n",
        "dataset_tf = dataset_tf.prefetch(buffer_size=tf.data.AUTOTUNE)"
      ]
    },
    {
      "cell_type": "code",
      "execution_count": 19,
      "metadata": {
        "execution": {
          "iopub.execute_input": "2022-11-19T17:52:44.034491Z",
          "iopub.status.busy": "2022-11-19T17:52:44.034140Z",
          "iopub.status.idle": "2022-11-19T17:52:44.043982Z",
          "shell.execute_reply": "2022-11-19T17:52:44.042236Z",
          "shell.execute_reply.started": "2022-11-19T17:52:44.034457Z"
        },
        "gather": {
          "logged": 1668929085481
        },
        "trusted": true
      },
      "outputs": [],
      "source": [
        "class BahdanauAttention(tf.keras.Model):\n",
        "  def __init__(self, units):\n",
        "    super(BahdanauAttention, self).__init__()\n",
        "    self.W1 = tf.keras.layers.Dense(units)\n",
        "    self.W2 = tf.keras.layers.Dense(units)\n",
        "    self.V = tf.keras.layers.Dense(1)\n",
        "\n",
        "  def call(self, features, hidden):\n",
        "    # features(CNN_encoder output) shape == (batch_size, 64, embedding_dim)\n",
        "\n",
        "    # hidden shape == (batch_size, hidden_size)\n",
        "    # hidden_with_time_axis shape == (batch_size, 1, hidden_size)\n",
        "    hidden_with_time_axis = tf.expand_dims(hidden, 1)\n",
        "\n",
        "    # attention_hidden_layer shape == (batch_size, 64, units)\n",
        "    attention_hidden_layer = (tf.nn.tanh(self.W1(features) +\n",
        "                                         self.W2(hidden_with_time_axis)))\n",
        "\n",
        "    # score shape == (batch_size, 64, 1)\n",
        "    # This gives you an unnormalized score for each image feature.\n",
        "    score = self.V(attention_hidden_layer)\n",
        "\n",
        "    # attention_weights shape == (batch_size, 64, 1)\n",
        "    attention_weights = tf.nn.softmax(score, axis=1)\n",
        "\n",
        "    # context_vector shape after sum == (batch_size, hidden_size)\n",
        "    context_vector = attention_weights * features\n",
        "    context_vector = tf.reduce_sum(context_vector, axis=1)\n",
        "\n",
        "    return context_vector, attention_weights\n"
      ]
    },
    {
      "cell_type": "code",
      "execution_count": 20,
      "metadata": {
        "execution": {
          "iopub.execute_input": "2022-11-19T17:52:44.045795Z",
          "iopub.status.busy": "2022-11-19T17:52:44.045421Z",
          "iopub.status.idle": "2022-11-19T17:52:44.058250Z",
          "shell.execute_reply": "2022-11-19T17:52:44.057263Z",
          "shell.execute_reply.started": "2022-11-19T17:52:44.045762Z"
        },
        "gather": {
          "logged": 1668929089943
        },
        "trusted": true
      },
      "outputs": [],
      "source": [
        "class CNN_Encoder(tf.keras.Model):\n",
        "    # Since you have already extracted the features and dumped it\n",
        "    # This encoder passes those features through a Fully connected layer\n",
        "    def __init__(self, embedding_dim):\n",
        "        super(CNN_Encoder, self).__init__()\n",
        "        # shape after fc == (batch_size, 64, embedding_dim)\n",
        "        self.fc = tf.keras.layers.Dense(embedding_dim)\n",
        "\n",
        "    def call(self, x):\n",
        "        x = self.fc(x)\n",
        "        x = tf.nn.relu(x)\n",
        "        return x"
      ]
    },
    {
      "cell_type": "code",
      "execution_count": 21,
      "metadata": {
        "execution": {
          "iopub.execute_input": "2022-11-19T17:52:44.060261Z",
          "iopub.status.busy": "2022-11-19T17:52:44.059874Z",
          "iopub.status.idle": "2022-11-19T17:52:44.071712Z",
          "shell.execute_reply": "2022-11-19T17:52:44.070697Z",
          "shell.execute_reply.started": "2022-11-19T17:52:44.060227Z"
        },
        "gather": {
          "logged": 1668929097091
        },
        "trusted": true
      },
      "outputs": [],
      "source": [
        "class RNN_Decoder(tf.keras.Model):\n",
        "  def __init__(self, embedding_dim, units, vocab_size):\n",
        "    super(RNN_Decoder, self).__init__()\n",
        "    self.units = units\n",
        "\n",
        "    self.embedding = tf.keras.layers.Embedding(vocab_size, embedding_dim)\n",
        "    self.gru = tf.keras.layers.GRU(self.units,\n",
        "                                   return_sequences=True,\n",
        "                                   return_state=True,\n",
        "                                   recurrent_initializer='glorot_uniform')\n",
        "    self.fc1 = tf.keras.layers.Dense(self.units)\n",
        "    self.fc2 = tf.keras.layers.Dense(vocab_size)\n",
        "\n",
        "    self.attention = BahdanauAttention(self.units)\n",
        "\n",
        "  def call(self, x, features, hidden):\n",
        "    # defining attention as a separate model\n",
        "    context_vector, attention_weights = self.attention(features, hidden)\n",
        "\n",
        "    # x shape after passing through embedding == (batch_size, 1, embedding_dim)\n",
        "    x = self.embedding(x)\n",
        "\n",
        "    # x shape after concatenation == (batch_size, 1, embedding_dim + hidden_size)\n",
        "    x = tf.concat([tf.expand_dims(context_vector, 1), x], axis=-1)\n",
        "\n",
        "    # passing the concatenated vector to the GRU\n",
        "    output, state = self.gru(x)\n",
        "\n",
        "    # shape == (batch_size, max_length, hidden_size)\n",
        "    x = self.fc1(output)\n",
        "\n",
        "    # x shape == (batch_size * max_length, hidden_size)\n",
        "    x = tf.reshape(x, (-1, x.shape[2]))\n",
        "\n",
        "    # output shape == (batch_size * max_length, vocab)\n",
        "    x = self.fc2(x)\n",
        "\n",
        "    return x, state, attention_weights\n",
        "\n",
        "  def reset_state(self, batch_size):\n",
        "    return tf.zeros((batch_size, self.units))\n"
      ]
    },
    {
      "cell_type": "code",
      "execution_count": 22,
      "metadata": {
        "execution": {
          "iopub.execute_input": "2022-11-19T17:52:44.075202Z",
          "iopub.status.busy": "2022-11-19T17:52:44.074944Z",
          "iopub.status.idle": "2022-11-19T17:52:44.100358Z",
          "shell.execute_reply": "2022-11-19T17:52:44.099494Z",
          "shell.execute_reply.started": "2022-11-19T17:52:44.075179Z"
        },
        "gather": {
          "logged": 1668929101478
        },
        "trusted": true
      },
      "outputs": [],
      "source": [
        "# Initialize the encoder and decoder\n",
        "encoder = CNN_Encoder(embedding_dim)\n",
        "decoder = RNN_Decoder(embedding_dim, units, tokenizer.vocabulary_size())"
      ]
    },
    {
      "cell_type": "code",
      "execution_count": 23,
      "metadata": {
        "execution": {
          "iopub.execute_input": "2022-11-19T17:52:44.102697Z",
          "iopub.status.busy": "2022-11-19T17:52:44.102353Z",
          "iopub.status.idle": "2022-11-19T17:52:44.109582Z",
          "shell.execute_reply": "2022-11-19T17:52:44.108620Z",
          "shell.execute_reply.started": "2022-11-19T17:52:44.102659Z"
        },
        "gather": {
          "logged": 1668929109488
        },
        "trusted": true
      },
      "outputs": [],
      "source": [
        "# Training config.\n",
        "optimizer = tf.keras.optimizers.Adam()\n",
        "loss_object = tf.keras.losses.SparseCategoricalCrossentropy(\n",
        "    from_logits=True, reduction='none')\n",
        "\n",
        "# Loss function to use during training.\n",
        "def loss_function(real, pred):\n",
        "  mask = tf.math.logical_not(tf.math.equal(real, 0))\n",
        "  loss_ = loss_object(real, pred)\n",
        "\n",
        "  mask = tf.cast(mask, dtype=loss_.dtype)\n",
        "  loss_ *= mask\n",
        "\n",
        "  return tf.reduce_mean(loss_)"
      ]
    },
    {
      "cell_type": "code",
      "execution_count": 24,
      "metadata": {
        "execution": {
          "iopub.execute_input": "2022-11-19T17:52:44.111845Z",
          "iopub.status.busy": "2022-11-19T17:52:44.110852Z",
          "iopub.status.idle": "2022-11-19T17:52:44.128011Z",
          "shell.execute_reply": "2022-11-19T17:52:44.127115Z",
          "shell.execute_reply.started": "2022-11-19T17:52:44.111768Z"
        },
        "gather": {
          "logged": 1668929121438
        },
        "trusted": true
      },
      "outputs": [],
      "source": [
        "# Make sure we save checkpoints during training\n",
        "checkpoint_path = \"./checkpoints/new-kir/train\"\n",
        "ckpt = tf.train.Checkpoint(encoder=encoder,\n",
        "                           decoder=decoder,\n",
        "                           optimizer=optimizer)\n",
        "ckpt_manager = tf.train.CheckpointManager(ckpt, checkpoint_path, max_to_keep=5)"
      ]
    },
    {
      "cell_type": "code",
      "execution_count": 25,
      "metadata": {
        "execution": {
          "iopub.execute_input": "2022-11-19T17:52:44.129892Z",
          "iopub.status.busy": "2022-11-19T17:52:44.129478Z",
          "iopub.status.idle": "2022-11-19T17:52:44.135348Z",
          "shell.execute_reply": "2022-11-19T17:52:44.134359Z",
          "shell.execute_reply.started": "2022-11-19T17:52:44.129859Z"
        },
        "gather": {
          "logged": 1668929127182
        },
        "trusted": true
      },
      "outputs": [],
      "source": [
        "start_epoch = 0\n",
        "if ckpt_manager.latest_checkpoint:\n",
        "  start_epoch = int(ckpt_manager.latest_checkpoint.split('-')[-1])\n",
        "  \n",
        "  # restoring the latest checkpoint in checkpoint_path\n",
        "  ckpt.restore(ckpt_manager.latest_checkpoint)"
      ]
    },
    {
      "cell_type": "code",
      "execution_count": 26,
      "metadata": {
        "execution": {
          "iopub.execute_input": "2022-11-19T17:52:44.137483Z",
          "iopub.status.busy": "2022-11-19T17:52:44.136597Z",
          "iopub.status.idle": "2022-11-19T17:52:44.145398Z",
          "shell.execute_reply": "2022-11-19T17:52:44.144456Z",
          "shell.execute_reply.started": "2022-11-19T17:52:44.137448Z"
        },
        "gather": {
          "logged": 1668929134590
        },
        "trusted": true
      },
      "outputs": [],
      "source": [
        "# adding this in a separate cell because if you run the training cell\n",
        "# many times, the loss_plot array will be reset\n",
        "loss_plot = []"
      ]
    },
    {
      "cell_type": "code",
      "execution_count": 27,
      "metadata": {
        "execution": {
          "iopub.execute_input": "2022-11-19T17:52:44.148348Z",
          "iopub.status.busy": "2022-11-19T17:52:44.148042Z",
          "iopub.status.idle": "2022-11-19T17:52:45.421128Z",
          "shell.execute_reply": "2022-11-19T17:52:45.420081Z",
          "shell.execute_reply.started": "2022-11-19T17:52:44.148323Z"
        },
        "gather": {
          "logged": 1668929141484
        },
        "trusted": true
      },
      "outputs": [],
      "source": [
        "@tf.function\n",
        "def train_step(img_tensor, target):\n",
        "  loss = 0\n",
        "\n",
        "  # initializing the hidden state for each batch\n",
        "  # because the captions are not related from image to image\n",
        "  hidden = decoder.reset_state(batch_size=target.shape[0])\n",
        "\n",
        "  dec_input = tf.expand_dims([word_to_index(tf.constant('<start>'))] * target.shape[0], 1)\n",
        "\n",
        "  with tf.GradientTape() as tape:\n",
        "      features = encoder(img_tensor)\n",
        "\n",
        "      for i in range(1, target.shape[1]):\n",
        "          # passing the features through the decoder\n",
        "          predictions, hidden, _ = decoder(dec_input, features, hidden)\n",
        "\n",
        "          loss += loss_function(target[:, i], predictions)\n",
        "\n",
        "          # using teacher forcing\n",
        "          dec_input = tf.expand_dims(target[:, i], 1)\n",
        "\n",
        "  total_loss = (loss / int(target.shape[1]))\n",
        "  trainable_variables = encoder.trainable_variables + decoder.trainable_variables\n",
        "  gradients = tape.gradient(loss, trainable_variables)\n",
        "  optimizer.apply_gradients(zip(gradients, trainable_variables))\n",
        "\n",
        "  return loss, total_loss"
      ]
    },
    {
      "cell_type": "code",
      "execution_count": 28,
      "metadata": {
        "execution": {
          "iopub.execute_input": "2022-11-19T17:52:45.425112Z",
          "iopub.status.busy": "2022-11-19T17:52:45.424439Z",
          "iopub.status.idle": "2022-11-19T18:01:40.599764Z",
          "shell.execute_reply": "2022-11-19T18:01:40.598537Z",
          "shell.execute_reply.started": "2022-11-19T17:52:45.425078Z"
        },
        "gather": {
          "logged": 1668935824839
        },
        "trusted": true
      },
      "outputs": [
        {
          "name": "stdout",
          "output_type": "stream",
          "text": [
            "Epoch 1 Batch 0 Loss 5.7946\n",
            "Epoch 1 Batch 100 Loss 3.9181\n",
            "Epoch 1 Batch 200 Loss 3.7705\n",
            "Epoch 1 Batch 300 Loss 3.4147\n",
            "Epoch 1 Batch 400 Loss 3.8416\n",
            "Epoch 1 Loss 3.655652\n",
            "Time taken for 1 epoch 326.91 sec\n",
            "\n",
            "Epoch 2 Batch 0 Loss 3.7841\n",
            "Epoch 2 Batch 100 Loss 3.1702\n",
            "Epoch 2 Batch 200 Loss 3.0886\n",
            "Epoch 2 Batch 300 Loss 2.6488\n",
            "Epoch 2 Batch 400 Loss 3.5666\n",
            "Epoch 2 Loss 3.128857\n",
            "Time taken for 1 epoch 265.59 sec\n",
            "\n",
            "Epoch 3 Batch 0 Loss 3.2388\n",
            "Epoch 3 Batch 100 Loss 3.1648\n",
            "Epoch 3 Batch 200 Loss 3.4875\n",
            "Epoch 3 Batch 300 Loss 2.5488\n",
            "Epoch 3 Batch 400 Loss 2.9543\n",
            "Epoch 3 Loss 2.935658\n",
            "Time taken for 1 epoch 264.35 sec\n",
            "\n",
            "Epoch 4 Batch 0 Loss 3.2966\n",
            "Epoch 4 Batch 100 Loss 2.5989\n",
            "Epoch 4 Batch 200 Loss 2.9560\n",
            "Epoch 4 Batch 300 Loss 2.6535\n",
            "Epoch 4 Batch 400 Loss 2.9576\n",
            "Epoch 4 Loss 2.807754\n",
            "Time taken for 1 epoch 259.11 sec\n",
            "\n",
            "Epoch 5 Batch 0 Loss 3.3627\n",
            "Epoch 5 Batch 100 Loss 2.0592\n",
            "Epoch 5 Batch 200 Loss 2.8218\n",
            "Epoch 5 Batch 300 Loss 2.5857\n",
            "Epoch 5 Batch 400 Loss 2.9810\n",
            "Epoch 5 Loss 2.691405\n",
            "Time taken for 1 epoch 260.76 sec\n",
            "\n",
            "Epoch 6 Batch 0 Loss 3.0432\n",
            "Epoch 6 Batch 100 Loss 2.4702\n",
            "Epoch 6 Batch 200 Loss 2.7946\n",
            "Epoch 6 Batch 300 Loss 2.5416\n",
            "Epoch 6 Batch 400 Loss 2.7458\n",
            "Epoch 6 Loss 2.566248\n",
            "Time taken for 1 epoch 261.15 sec\n",
            "\n",
            "Epoch 7 Batch 0 Loss 3.4533\n",
            "Epoch 7 Batch 100 Loss 2.1064\n",
            "Epoch 7 Batch 200 Loss 2.4034\n",
            "Epoch 7 Batch 300 Loss 2.3198\n",
            "Epoch 7 Batch 400 Loss 2.4877\n",
            "Epoch 7 Loss 2.432643\n",
            "Time taken for 1 epoch 263.58 sec\n",
            "\n",
            "Epoch 8 Batch 0 Loss 3.0528\n",
            "Epoch 8 Batch 100 Loss 1.9832\n",
            "Epoch 8 Batch 200 Loss 2.0500\n",
            "Epoch 8 Batch 300 Loss 2.2834\n",
            "Epoch 8 Batch 400 Loss 2.3320\n",
            "Epoch 8 Loss 2.286661\n",
            "Time taken for 1 epoch 270.75 sec\n",
            "\n",
            "Epoch 9 Batch 0 Loss 2.7980\n",
            "Epoch 9 Batch 100 Loss 1.8067\n",
            "Epoch 9 Batch 200 Loss 2.3113\n",
            "Epoch 9 Batch 300 Loss 1.8468\n",
            "Epoch 9 Batch 400 Loss 2.2404\n",
            "Epoch 9 Loss 2.138651\n",
            "Time taken for 1 epoch 317.58 sec\n",
            "\n",
            "Epoch 10 Batch 0 Loss 2.8441\n",
            "Epoch 10 Batch 100 Loss 1.7979\n",
            "Epoch 10 Batch 200 Loss 1.7518\n",
            "Epoch 10 Batch 300 Loss 1.9311\n",
            "Epoch 10 Batch 400 Loss 2.0969\n",
            "Epoch 10 Loss 1.984853\n",
            "Time taken for 1 epoch 280.93 sec\n",
            "\n",
            "Epoch 11 Batch 0 Loss 2.6484\n",
            "Epoch 11 Batch 100 Loss 1.7513\n",
            "Epoch 11 Batch 200 Loss 1.8780\n",
            "Epoch 11 Batch 300 Loss 1.6972\n",
            "Epoch 11 Batch 400 Loss 1.9190\n",
            "Epoch 11 Loss 1.828766\n",
            "Time taken for 1 epoch 268.85 sec\n",
            "\n",
            "Epoch 12 Batch 0 Loss 2.6395\n",
            "Epoch 12 Batch 100 Loss 1.5173\n",
            "Epoch 12 Batch 200 Loss 1.6946\n",
            "Epoch 12 Batch 300 Loss 1.6777\n",
            "Epoch 12 Batch 400 Loss 1.6450\n",
            "Epoch 12 Loss 1.679063\n",
            "Time taken for 1 epoch 256.96 sec\n",
            "\n",
            "Epoch 13 Batch 0 Loss 2.7607\n",
            "Epoch 13 Batch 100 Loss 1.4366\n",
            "Epoch 13 Batch 200 Loss 1.5886\n",
            "Epoch 13 Batch 300 Loss 1.7068\n",
            "Epoch 13 Batch 400 Loss 1.8597\n",
            "Epoch 13 Loss 1.537585\n",
            "Time taken for 1 epoch 259.82 sec\n",
            "\n",
            "Epoch 14 Batch 0 Loss 2.3876\n",
            "Epoch 14 Batch 100 Loss 1.2606\n",
            "Epoch 14 Batch 200 Loss 1.2969\n",
            "Epoch 14 Batch 300 Loss 1.4253\n",
            "Epoch 14 Batch 400 Loss 1.2024\n",
            "Epoch 14 Loss 1.401366\n",
            "Time taken for 1 epoch 257.58 sec\n",
            "\n",
            "Epoch 15 Batch 0 Loss 2.4697\n",
            "Epoch 15 Batch 100 Loss 1.3775\n",
            "Epoch 15 Batch 200 Loss 1.4108\n",
            "Epoch 15 Batch 300 Loss 1.2519\n",
            "Epoch 15 Batch 400 Loss 1.3374\n",
            "Epoch 15 Loss 1.283890\n",
            "Time taken for 1 epoch 258.66 sec\n",
            "\n",
            "Epoch 16 Batch 0 Loss 2.2804\n",
            "Epoch 16 Batch 100 Loss 1.0682\n",
            "Epoch 16 Batch 200 Loss 1.0428\n",
            "Epoch 16 Batch 300 Loss 1.0960\n",
            "Epoch 16 Batch 400 Loss 1.1641\n",
            "Epoch 16 Loss 1.177992\n",
            "Time taken for 1 epoch 262.52 sec\n",
            "\n",
            "Epoch 17 Batch 0 Loss 2.4933\n",
            "Epoch 17 Batch 100 Loss 0.8970\n",
            "Epoch 17 Batch 200 Loss 1.0237\n",
            "Epoch 17 Batch 300 Loss 0.9221\n",
            "Epoch 17 Batch 400 Loss 1.1670\n",
            "Epoch 17 Loss 1.086938\n",
            "Time taken for 1 epoch 262.50 sec\n",
            "\n",
            "Epoch 18 Batch 0 Loss 2.1271\n",
            "Epoch 18 Batch 100 Loss 0.9079\n",
            "Epoch 18 Batch 200 Loss 1.1189\n",
            "Epoch 18 Batch 300 Loss 0.8162\n",
            "Epoch 18 Batch 400 Loss 1.0490\n",
            "Epoch 18 Loss 1.002913\n",
            "Time taken for 1 epoch 258.84 sec\n",
            "\n",
            "Epoch 19 Batch 0 Loss 1.9292\n",
            "Epoch 19 Batch 100 Loss 0.7760\n",
            "Epoch 19 Batch 200 Loss 0.8922\n",
            "Epoch 19 Batch 300 Loss 0.9771\n",
            "Epoch 19 Batch 400 Loss 0.9484\n",
            "Epoch 19 Loss 0.926147\n",
            "Time taken for 1 epoch 258.47 sec\n",
            "\n",
            "Epoch 20 Batch 0 Loss 2.0676\n",
            "Epoch 20 Batch 100 Loss 0.6460\n",
            "Epoch 20 Batch 200 Loss 0.7601\n",
            "Epoch 20 Batch 300 Loss 0.8432\n",
            "Epoch 20 Batch 400 Loss 0.9019\n",
            "Epoch 20 Loss 0.853867\n",
            "Time taken for 1 epoch 257.01 sec\n",
            "\n",
            "Epoch 21 Batch 0 Loss 1.9121\n",
            "Epoch 21 Batch 100 Loss 0.7045\n",
            "Epoch 21 Batch 200 Loss 0.6957\n",
            "Epoch 21 Batch 300 Loss 0.7119\n",
            "Epoch 21 Batch 400 Loss 0.6924\n",
            "Epoch 21 Loss 0.796981\n",
            "Time taken for 1 epoch 264.17 sec\n",
            "\n",
            "Epoch 22 Batch 0 Loss 2.0661\n",
            "Epoch 22 Batch 100 Loss 0.7010\n",
            "Epoch 22 Batch 200 Loss 0.6942\n",
            "Epoch 22 Batch 300 Loss 0.6295\n",
            "Epoch 22 Batch 400 Loss 0.7108\n",
            "Epoch 22 Loss 0.757415\n",
            "Time taken for 1 epoch 260.53 sec\n",
            "\n",
            "Epoch 23 Batch 0 Loss 1.9106\n",
            "Epoch 23 Batch 100 Loss 0.5320\n",
            "Epoch 23 Batch 200 Loss 0.6493\n",
            "Epoch 23 Batch 300 Loss 0.6381\n",
            "Epoch 23 Batch 400 Loss 0.7884\n",
            "Epoch 23 Loss 0.706979\n",
            "Time taken for 1 epoch 257.60 sec\n",
            "\n",
            "Epoch 24 Batch 0 Loss 1.8830\n",
            "Epoch 24 Batch 100 Loss 0.5077\n",
            "Epoch 24 Batch 200 Loss 0.6582\n",
            "Epoch 24 Batch 300 Loss 0.6646\n",
            "Epoch 24 Batch 400 Loss 0.6940\n",
            "Epoch 24 Loss 0.668097\n",
            "Time taken for 1 epoch 258.81 sec\n",
            "\n",
            "Epoch 25 Batch 0 Loss 1.6926\n",
            "Epoch 25 Batch 100 Loss 0.6288\n",
            "Epoch 25 Batch 200 Loss 0.6167\n",
            "Epoch 25 Batch 300 Loss 0.6132\n",
            "Epoch 25 Batch 400 Loss 0.6688\n",
            "Epoch 25 Loss 0.635011\n",
            "Time taken for 1 epoch 259.18 sec\n",
            "\n"
          ]
        },
        {
          "name": "stderr",
          "output_type": "stream",
          "text": [
            "2022-11-20 08:02:15.790486: I tensorflow/core/kernels/data/shuffle_dataset_op.cc:390] Filling up shuffle buffer (this may take a while): 860 of 1000\n",
            "2022-11-20 08:02:17.116543: I tensorflow/core/kernels/data/shuffle_dataset_op.cc:415] Shuffle buffer filled.\n"
          ]
        }
      ],
      "source": [
        "# Adjust this depending on how long you want to train\n",
        "EPOCHS = 25\n",
        "\n",
        "# Train our model!\n",
        "for epoch in range(start_epoch, EPOCHS):\n",
        "    start = time.time()\n",
        "    total_loss = 0\n",
        "\n",
        "    for (batch, (img_tensor, target)) in enumerate(dataset_tf):\n",
        "        batch_loss, t_loss = train_step(img_tensor, target)\n",
        "        total_loss += t_loss\n",
        "\n",
        "        if batch % 100 == 0:\n",
        "            average_batch_loss = batch_loss.numpy()/int(target.shape[1])\n",
        "            print(f'Epoch {epoch+1} Batch {batch} Loss {average_batch_loss:.4f}')\n",
        "    # storing the epoch end loss value to plot later\n",
        "    loss_plot.append(total_loss / num_steps)\n",
        "\n",
        "    if epoch % 5 == 0:\n",
        "      ckpt_manager.save()\n",
        "\n",
        "    print(f'Epoch {epoch+1} Loss {total_loss/num_steps:.6f}')\n",
        "    print(f'Time taken for 1 epoch {time.time()-start:.2f} sec\\n')"
      ]
    },
    {
      "cell_type": "code",
      "execution_count": 29,
      "metadata": {
        "execution": {
          "iopub.execute_input": "2022-11-19T18:02:23.140918Z",
          "iopub.status.busy": "2022-11-19T18:02:23.139700Z",
          "iopub.status.idle": "2022-11-19T18:02:23.314967Z",
          "shell.execute_reply": "2022-11-19T18:02:23.314008Z",
          "shell.execute_reply.started": "2022-11-19T18:02:23.140876Z"
        },
        "gather": {
          "logged": 1668935831730
        },
        "trusted": true
      },
      "outputs": [
        {
          "data": {
            "image/png": "[encoded data removed]",
            "text/plain": [
              "<Figure size 432x288 with 1 Axes>"
            ]
          },
          "metadata": {
            "needs_background": "light"
          },
          "output_type": "display_data"
        }
      ],
      "source": [
        "plt.plot(loss_plot)\n",
        "plt.xlabel('Epochs')\n",
        "plt.ylabel('Loss')\n",
        "plt.title('Loss Plot')\n",
        "plt.show()"
      ]
    },
    {
      "cell_type": "code",
      "execution_count": 30,
      "metadata": {
        "execution": {
          "iopub.execute_input": "2022-11-19T18:02:26.346800Z",
          "iopub.status.busy": "2022-11-19T18:02:26.346290Z",
          "iopub.status.idle": "2022-11-19T18:02:26.356538Z",
          "shell.execute_reply": "2022-11-19T18:02:26.355530Z",
          "shell.execute_reply.started": "2022-11-19T18:02:26.346750Z"
        },
        "gather": {
          "logged": 1668935910380
        },
        "trusted": true
      },
      "outputs": [],
      "source": [
        "def predict(image):\n",
        "    attention_plot = np.zeros((max_length, attention_features_shape))\n",
        "\n",
        "    hidden = decoder.reset_state(batch_size=1)\n",
        "\n",
        "    temp_input = tf.expand_dims(load_image(image)[0], 0)\n",
        "    img_tensor_val = image_features_extract_model(temp_input)\n",
        "    img_tensor_val = tf.reshape(img_tensor_val, (img_tensor_val.shape[0],\n",
        "                                                 -1,\n",
        "                                                 img_tensor_val.shape[3]))\n",
        "\n",
        "    features = encoder(img_tensor_val)\n",
        "\n",
        "    dec_input = tf.expand_dims([word_to_index(tf.constant('<start>'))], 0)\n",
        "    result = []\n",
        "\n",
        "    for i in range(max_length):\n",
        "        predictions, hidden, attention_weights = decoder(dec_input,\n",
        "                                                         features,\n",
        "                                                         hidden)\n",
        "\n",
        "        attention_plot[i] = tf.reshape(attention_weights, (-1, )).numpy()\n",
        "\n",
        "        predicted_id = tf.random.categorical(predictions, 1)[0][0].numpy()\n",
        "        predicted_word = tf.compat.as_text(index_to_word(tf.constant(predicted_id)).numpy())\n",
        "        result.append(predicted_word)\n",
        "\n",
        "        if predicted_word == '<end>':\n",
        "            return result, attention_plot\n",
        "\n",
        "        dec_input = tf.expand_dims([predicted_id], 0)\n",
        "\n",
        "    attention_plot = attention_plot[:len(result), :]\n",
        "    return result, attention_plot"
      ]
    },
    {
      "cell_type": "code",
      "execution_count": 31,
      "metadata": {
        "execution": {
          "iopub.execute_input": "2022-11-19T18:02:28.070734Z",
          "iopub.status.busy": "2022-11-19T18:02:28.070347Z",
          "iopub.status.idle": "2022-11-19T18:02:28.079630Z",
          "shell.execute_reply": "2022-11-19T18:02:28.078577Z",
          "shell.execute_reply.started": "2022-11-19T18:02:28.070698Z"
        },
        "gather": {
          "logged": 1668935915415
        },
        "trusted": true
      },
      "outputs": [],
      "source": [
        "def plot_attention(image, result, attention_plot):\n",
        "    temp_image = np.array(Image.open(image))\n",
        "\n",
        "    fig = plt.figure(figsize=(10, 10))\n",
        "\n",
        "    len_result = len(result)\n",
        "    for i in range(len_result):\n",
        "        temp_att = np.resize(attention_plot[i], (8, 8))\n",
        "        grid_size = max(int(np.ceil(len_result/2)), 2)\n",
        "        ax = fig.add_subplot(grid_size, grid_size, i+1)\n",
        "        ax.set_title(result[i])\n",
        "        img = ax.imshow(temp_image)\n",
        "        ax.imshow(temp_att, cmap='gray', alpha=0.6, extent=img.get_extent())\n",
        "\n",
        "    plt.tight_layout()\n",
        "    plt.show()"
      ]
    },
    {
      "cell_type": "code",
      "execution_count": 32,
      "metadata": {
        "gather": {
          "logged": 1668935945835
        },
        "jupyter": {
          "outputs_hidden": false,
          "source_hidden": false
        },
        "nteract": {
          "transient": {
            "deleting": false
          }
        }
      },
      "outputs": [
        {
          "name": "stdout",
          "output_type": "stream",
          "text": [
            "Prediction Caption: [UNK] Бул мен даракка [UNK]\n"
          ]
        },
        {
          "data": {
            "image/jpeg": "[encoded data removed]",
            "text/plain": [
              "<IPython.core.display.Image object>"
            ]
          },
          "execution_count": 32,
          "metadata": {},
          "output_type": "execute_result"
        }
      ],
      "source": [
        "# Predict a caption for a random test image\n",
        "rid = np.random.randint(0, len(img_name_test))\n",
        "image = img_name_test[rid]\n",
        "result, attention_plot = predict(image)\n",
        "predicted_caption = ' '.join(result).replace(' <end>', '')\n",
        "print('Prediction Caption:', predicted_caption)\n",
        "\n",
        "# Display image\n",
        "from IPython.display import Image as im\n",
        "im(filename=image) "
      ]
    },
    {
      "cell_type": "markdown",
      "metadata": {
        "nteract": {
          "transient": {
            "deleting": false
          }
        }
      },
      "source": [
        "#"
      ]
    },
    {
      "cell_type": "markdown",
      "metadata": {
        "nteract": {
          "transient": {
            "deleting": false
          }
        }
      },
      "source": [
        "# Generating Output File with Prediction"
      ]
    },
    {
      "cell_type": "markdown",
      "metadata": {
        "nteract": {
          "transient": {
            "deleting": false
          }
        }
      },
      "source": [
        "## My Code for Prediction"
      ]
    },
    {
      "cell_type": "markdown",
      "metadata": {
        "nteract": {
          "transient": {
            "deleting": false
          }
        }
      },
      "source": [
        "### Test Data preparation"
      ]
    },
    {
      "cell_type": "code",
      "execution_count": 37,
      "metadata": {
        "gather": {
          "logged": 1668936959730
        },
        "jupyter": {
          "outputs_hidden": false,
          "source_hidden": false
        },
        "nteract": {
          "transient": {
            "deleting": false
          }
        }
      },
      "outputs": [],
      "source": [
        "import pandas as pd\n",
        "from datasets import Dataset, DatasetDict\n",
        "# from google.colab import drive\n",
        "# drive.mount('/content/gdrive')\n",
        "\n",
        "op_lang = 'kir' # for Kyrgyz\n",
        "# op_lang = 'hau' # for Hausa\n",
        "# op_lang = 'tha' # for Thai\n",
        "\n",
        "# Importing Testing Dataset from Google Drive and preparing for processing\n",
        "# mytest_path = 'gdrive/My Drive/Developer/Datasets/purdue_image_captioning/test.csv'\n",
        "# mytest_df = pd.read_csv(mytest_path)\n",
        "mytest_df = pd.read_csv('test.csv')\n",
        "mytest_df['Id'] = mytest_df.Id.str.split(pat='_', expand=True)[0]\n",
        "\n",
        "testlang_df = mytest_df[mytest_df['ISO639-3'] == op_lang].reset_index(drop= True)\n",
        "testlang_df = testlang_df.rename( columns={'Id' : 'image_id','ImageURL' : 'image_url'})\n",
        "\n",
        "# Converting DataFrame to DatasetDict\n",
        "testdf = Dataset.from_pandas(testlang_df)\n",
        "df = DatasetDict()\n",
        "df['test'] = testdf"
      ]
    },
    {
      "cell_type": "code",
      "execution_count": 41,
      "metadata": {
        "gather": {
          "logged": 1668937100582
        },
        "jupyter": {
          "outputs_hidden": false,
          "source_hidden": false
        },
        "nteract": {
          "transient": {
            "deleting": false
          }
        }
      },
      "outputs": [],
      "source": [
        "USER_AGENT = get_datasets_user_agent()\n",
        "\n",
        "def fetch_single_image(image_url, timeout=None, retries=0):\n",
        "    request = urllib.request.Request(\n",
        "        image_url,\n",
        "        data=None,\n",
        "        headers={\"user-agent\": USER_AGENT},\n",
        "    )\n",
        "    with urllib.request.urlopen(request, timeout=timeout) as req:\n",
        "        if 'png' in image_url:\n",
        "          png = Image.open(io.BytesIO(req.read())).convert('RGBA')\n",
        "          png.load() # required for png.split()\n",
        "          background = Image.new(\"RGB\", png.size, (255, 255, 255))\n",
        "          background.paste(png, mask=png.split()[3]) # 3 is the alpha channel\n",
        "          image_id = str(uuid.uuid4())\n",
        "          image_path = \"images/\" + image_id + \".jpg\"\n",
        "          background.save(image_path, 'JPEG', quality=80)\n",
        "        else:\n",
        "          image = Image.open(io.BytesIO(req.read()))\n",
        "          image_id = str(uuid.uuid4())\n",
        "          image_path = \"images/\" + image_id + \".jpg\"\n",
        "          image.save(image_path)\n",
        "    return image_path\n",
        "\n",
        "def fetch_images(batch, num_threads, timeout=None, retries=3):\n",
        "    fetch_single_image_with_args = partial(fetch_single_image, timeout=timeout, retries=retries)\n",
        "    with ThreadPoolExecutor(max_workers=num_threads) as executor:\n",
        "        batch[\"image_path\"] = list(executor.map(fetch_single_image_with_args, batch[\"image_url\"]))\n",
        "    return batch\n",
        "\n",
        "num_threads = 12"
      ]
    },
    {
      "cell_type": "code",
      "execution_count": 59,
      "metadata": {
        "gather": {
          "logged": 1668938313551
        },
        "jupyter": {
          "outputs_hidden": false,
          "source_hidden": false
        },
        "nteract": {
          "transient": {
            "deleting": false
          }
        }
      },
      "outputs": [
        {
          "data": {
            "application/vnd.jupyter.widget-view+json": {
              "model_id": "adef7b0090484d29bf3fa986a3727d8d",
              "version_major": 2,
              "version_minor": 0
            },
            "text/plain": [
              "  0%|          | 0/1 [00:00<?, ?ba/s]"
            ]
          },
          "metadata": {},
          "output_type": "display_data"
        }
      ],
      "source": [
        "# Forming Final Output Dataframe\n",
        "op_df = testlang_df[['image_id']]\n",
        "op_df = op_df.rename(columns={'image_id':'Id'})\n",
        "\n",
        "# Getting the image path out of image urls\n",
        "df = df.map(fetch_images, batched=True, batch_size=100, fn_kwargs={\"num_threads\": num_threads})\n",
        "\n",
        "# Function to map image_id and generate Image Caption\n",
        "def generate_caption(image_id):\n",
        "  image = df['test'][df['test']['image_id']== image_id]['image_path']\n",
        "  result, attention_plot = predict(image)\n",
        "  caption = ' '.join(result).replace(' <end>', '')\n",
        "  return caption\n",
        "\n",
        "# Generate caption column\n",
        "op_df['Predicted'] = op_df['Id'].apply(generate_caption)\n",
        "\n",
        "# Function to cleanup Unknown words\n",
        "def clear_strng(caption):\n",
        "    caption = caption.replace('[UNK]','').replace(' +','')\n",
        "    return caption\n",
        "\n",
        "op_df['Predicted'] = op_df.Predicted.apply(clear_strng)\n",
        "\n",
        "# Generate Output File to Google Drive location\n",
        "# op_df.to_csv('gdrive/My Drive/Developer/Datasets/purdue_image_captioning/Kir_Predicted.csv')\n",
        "\n",
        "op_file = 'Kir_Predicted_captions.csv'\n",
        "# op_file = 'Hau_Predicted_captions.csv'\n",
        "# op_file = 'Tha_Predicted_captions.csv'\n",
        "\n",
        "op_df.to_csv(op_file)"
      ]
    }
  ],
  "metadata": {
    "kernel_info": {
      "name": "python3"
    },
    "kernelspec": {
      "display_name": "Python 3.7.6 64-bit",
      "language": "python",
      "name": "python3"
    },
    "language_info": {
      "codemirror_mode": {
        "name": "ipython",
        "version": 3
      },
      "file_extension": ".py",
      "mimetype": "text/x-python",
      "name": "python",
      "nbconvert_exporter": "python",
      "pygments_lexer": "ipython3",
      "version": "3.7.6"
    },
    "microsoft": {
      "host": {
        "AzureML": {
          "notebookHasBeenCompleted": true
        }
      }
    },
    "nteract": {
      "version": "nteract-front-end@1.0.0"
    },
    "vscode": {
      "interpreter": {
        "hash": "dcd4cb3d885346ed27a6e0b0eeafac209d301bb0e24dac527e1f12c274786bbc"
      }
    }
  },
  "nbformat": 4,
  "nbformat_minor": 4
}
