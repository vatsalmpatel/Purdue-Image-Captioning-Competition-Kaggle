{
  "cells": [
    {
      "cell_type": "markdown",
      "id": "71db96d7",
      "metadata": {
        "id": "xT0ciNrUgnop",
        "papermill": {
          "duration": 0.011732,
          "end_time": "2022-10-31T12:04:44.797487",
          "exception": false,
          "start_time": "2022-10-31T12:04:44.785755",
          "status": "completed"
        },
        "tags": []
      },
      "source": [
        "# Image Captioning Example (Purdue Krannert-Krenicki-Microsoft-INFORMS Analytics Competition)"
      ]
    },
    {
      "cell_type": "markdown",
      "id": "b47d5d28",
      "metadata": {
        "id": "kfI4-lw2f4Rg",
        "papermill": {
          "duration": 0.010478,
          "end_time": "2022-10-31T12:04:44.818872",
          "exception": false,
          "start_time": "2022-10-31T12:04:44.808394",
          "status": "completed"
        },
        "tags": []
      },
      "source": [
        "## Dependencies and imports"
      ]
    },
    {
      "cell_type": "markdown",
      "id": "504ed1fc",
      "metadata": {
        "id": "089jK0pegTb5",
        "papermill": {
          "duration": 0.011483,
          "end_time": "2022-10-31T12:04:44.840598",
          "exception": false,
          "start_time": "2022-10-31T12:04:44.829115",
          "status": "completed"
        },
        "tags": []
      },
      "source": [
        "These are dependencies that needed to be installed within the environment that this notebook was run. Depending on where you run the notebook, you may need to install other dependencies. See the below list of imports for details on what packages are used. Additionally, here is some version information for third party libraries that are known to work with this example:\n",
        "\n",
        "- Tensorflow 2.9.2\n",
        "- Datasets 2.6.1\n",
        "- Numpy 1.21.6"
      ]
    },
    {
      "cell_type": "code",
      "execution_count": 1,
      "id": "f33f8f49",
      "metadata": {
        "execution": {
          "iopub.execute_input": "2022-10-31T12:04:44.863139Z",
          "iopub.status.busy": "2022-10-31T12:04:44.862518Z",
          "iopub.status.idle": "2022-10-31T12:04:57.588203Z",
          "shell.execute_reply": "2022-10-31T12:04:57.587030Z"
        },
        "id": "iuzUalGEjNke",
        "outputId": "dd048b6f-6562-49a8-dfc2-d9222dec0e03",
        "papermill": {
          "duration": 12.740454,
          "end_time": "2022-10-31T12:04:57.591154",
          "exception": false,
          "start_time": "2022-10-31T12:04:44.850700",
          "status": "completed"
        },
        "tags": []
      },
      "outputs": [
        {
          "name": "stdout",
          "output_type": "stream",
          "text": [
            "Requirement already satisfied: datasets in /opt/conda/lib/python3.7/site-packages (2.1.0)\r\n",
            "Requirement already satisfied: tqdm in /opt/conda/lib/python3.7/site-packages (4.64.0)\r\n"
          ]
        },
        {
          "name": "stdout",
          "output_type": "stream",
          "text": [
            "Requirement already satisfied: fsspec[http]>=2021.05.0 in /opt/conda/lib/python3.7/site-packages (from datasets) (2022.8.2)\r\n",
            "Requirement already satisfied: huggingface-hub<1.0.0,>=0.1.0 in /opt/conda/lib/python3.7/site-packages (from datasets) (0.10.1)\r\n",
            "Requirement already satisfied: requests>=2.19.0 in /opt/conda/lib/python3.7/site-packages (from datasets) (2.28.1)\r\n",
            "Requirement already satisfied: aiohttp in /opt/conda/lib/python3.7/site-packages (from datasets) (3.8.1)\r\n",
            "Requirement already satisfied: pyarrow>=5.0.0 in /opt/conda/lib/python3.7/site-packages (from datasets) (8.0.0)\r\n",
            "Requirement already satisfied: packaging in /opt/conda/lib/python3.7/site-packages (from datasets) (21.3)\r\n",
            "Requirement already satisfied: responses<0.19 in /opt/conda/lib/python3.7/site-packages (from datasets) (0.18.0)\r\n",
            "Requirement already satisfied: importlib-metadata in /opt/conda/lib/python3.7/site-packages (from datasets) (4.13.0)\r\n",
            "Requirement already satisfied: xxhash in /opt/conda/lib/python3.7/site-packages (from datasets) (3.0.0)\r\n",
            "Requirement already satisfied: pandas in /opt/conda/lib/python3.7/site-packages (from datasets) (1.3.5)\r\n",
            "Requirement already satisfied: numpy>=1.17 in /opt/conda/lib/python3.7/site-packages (from datasets) (1.21.6)\r\n",
            "Requirement already satisfied: dill in /opt/conda/lib/python3.7/site-packages (from datasets) (0.3.5.1)\r\n",
            "Requirement already satisfied: multiprocess in /opt/conda/lib/python3.7/site-packages (from datasets) (0.70.13)\r\n"
          ]
        },
        {
          "name": "stdout",
          "output_type": "stream",
          "text": [
            "Requirement already satisfied: frozenlist>=1.1.1 in /opt/conda/lib/python3.7/site-packages (from aiohttp->datasets) (1.3.0)\r\n",
            "Requirement already satisfied: typing-extensions>=3.7.4 in /opt/conda/lib/python3.7/site-packages (from aiohttp->datasets) (4.4.0)\r\n",
            "Requirement already satisfied: attrs>=17.3.0 in /opt/conda/lib/python3.7/site-packages (from aiohttp->datasets) (21.4.0)\r\n",
            "Requirement already satisfied: asynctest==0.13.0 in /opt/conda/lib/python3.7/site-packages (from aiohttp->datasets) (0.13.0)\r\n",
            "Requirement already satisfied: yarl<2.0,>=1.0 in /opt/conda/lib/python3.7/site-packages (from aiohttp->datasets) (1.7.2)\r\n",
            "Requirement already satisfied: aiosignal>=1.1.2 in /opt/conda/lib/python3.7/site-packages (from aiohttp->datasets) (1.2.0)\r\n",
            "Requirement already satisfied: charset-normalizer<3.0,>=2.0 in /opt/conda/lib/python3.7/site-packages (from aiohttp->datasets) (2.1.0)\r\n",
            "Requirement already satisfied: multidict<7.0,>=4.5 in /opt/conda/lib/python3.7/site-packages (from aiohttp->datasets) (6.0.2)\r\n",
            "Requirement already satisfied: async-timeout<5.0,>=4.0.0a3 in /opt/conda/lib/python3.7/site-packages (from aiohttp->datasets) (4.0.2)\r\n"
          ]
        },
        {
          "name": "stdout",
          "output_type": "stream",
          "text": [
            "Requirement already satisfied: filelock in /opt/conda/lib/python3.7/site-packages (from huggingface-hub<1.0.0,>=0.1.0->datasets) (3.7.1)\r\n",
            "Requirement already satisfied: pyyaml>=5.1 in /opt/conda/lib/python3.7/site-packages (from huggingface-hub<1.0.0,>=0.1.0->datasets) (6.0)\r\n",
            "Requirement already satisfied: pyparsing!=3.0.5,>=2.0.2 in /opt/conda/lib/python3.7/site-packages (from packaging->datasets) (3.0.9)\r\n"
          ]
        },
        {
          "name": "stdout",
          "output_type": "stream",
          "text": [
            "Requirement already satisfied: certifi>=2017.4.17 in /opt/conda/lib/python3.7/site-packages (from requests>=2.19.0->datasets) (2022.9.24)\r\n",
            "Requirement already satisfied: idna<4,>=2.5 in /opt/conda/lib/python3.7/site-packages (from requests>=2.19.0->datasets) (3.3)\r\n",
            "Requirement already satisfied: urllib3<1.27,>=1.21.1 in /opt/conda/lib/python3.7/site-packages (from requests>=2.19.0->datasets) (1.26.12)\r\n"
          ]
        },
        {
          "name": "stdout",
          "output_type": "stream",
          "text": [
            "Requirement already satisfied: zipp>=0.5 in /opt/conda/lib/python3.7/site-packages (from importlib-metadata->datasets) (3.8.0)\r\n",
            "Requirement already satisfied: python-dateutil>=2.7.3 in /opt/conda/lib/python3.7/site-packages (from pandas->datasets) (2.8.2)\r\n",
            "Requirement already satisfied: pytz>=2017.3 in /opt/conda/lib/python3.7/site-packages (from pandas->datasets) (2022.1)\r\n"
          ]
        },
        {
          "name": "stdout",
          "output_type": "stream",
          "text": [
            "Requirement already satisfied: six>=1.5 in /opt/conda/lib/python3.7/site-packages (from python-dateutil>=2.7.3->pandas->datasets) (1.15.0)\r\n"
          ]
        },
        {
          "name": "stdout",
          "output_type": "stream",
          "text": [
            "\u001b[33mWARNING: Running pip as the 'root' user can result in broken permissions and conflicting behaviour with the system package manager. It is recommended to use a virtual environment instead: https://pip.pypa.io/warnings/venv\u001b[0m\u001b[33m\r\n",
            "\u001b[0m"
          ]
        }
      ],
      "source": [
        "! pip install datasets tqdm"
      ]
    },
    {
      "cell_type": "code",
      "execution_count": 2,
      "id": "90af7f96",
      "metadata": {
        "execution": {
          "iopub.execute_input": "2022-10-31T12:04:57.615587Z",
          "iopub.status.busy": "2022-10-31T12:04:57.615175Z",
          "iopub.status.idle": "2022-10-31T12:05:03.324746Z",
          "shell.execute_reply": "2022-10-31T12:05:03.323521Z"
        },
        "id": "ZXvljgc-jACE",
        "papermill": {
          "duration": 5.725377,
          "end_time": "2022-10-31T12:05:03.327711",
          "exception": false,
          "start_time": "2022-10-31T12:04:57.602334",
          "status": "completed"
        },
        "tags": []
      },
      "outputs": [],
      "source": [
        "import collections\n",
        "import random\n",
        "import os\n",
        "import time\n",
        "import json\n",
        "from PIL import Image\n",
        "import io\n",
        "import urllib\n",
        "import uuid\n",
        "from concurrent.futures import ThreadPoolExecutor\n",
        "from functools import partial\n",
        "\n",
        "import numpy as np\n",
        "from tqdm import tqdm\n",
        "from datasets import load_dataset\n",
        "from datasets.utils.file_utils import get_datasets_user_agent\n",
        "import matplotlib.pyplot as plt\n",
        "import tensorflow as tf\n",
        "from datasets import load_dataset"
      ]
    },
    {
      "cell_type": "markdown",
      "id": "9e4ab6e4",
      "metadata": {
        "id": "N5TzlNf3dWMX",
        "papermill": {
          "duration": 0.010759,
          "end_time": "2022-10-31T12:05:03.349633",
          "exception": false,
          "start_time": "2022-10-31T12:05:03.338874",
          "status": "completed"
        },
        "tags": []
      },
      "source": [
        "## Set Random Seeds"
      ]
    },
    {
      "cell_type": "markdown",
      "id": "ac996cb8",
      "metadata": {
        "id": "yMZmAIGBhMCy",
        "papermill": {
          "duration": 0.010549,
          "end_time": "2022-10-31T12:05:03.371225",
          "exception": false,
          "start_time": "2022-10-31T12:05:03.360676",
          "status": "completed"
        },
        "tags": []
      },
      "source": [
        "By setting random seed values, you can make your code a bit more reproducible between runs. This will help you as you experiment to see performance boosts due to methodology vs. differences due to initial conditions."
      ]
    },
    {
      "cell_type": "code",
      "execution_count": 3,
      "id": "05473a2a",
      "metadata": {
        "execution": {
          "iopub.execute_input": "2022-10-31T12:05:03.395853Z",
          "iopub.status.busy": "2022-10-31T12:05:03.394761Z",
          "iopub.status.idle": "2022-10-31T12:05:04.991423Z",
          "shell.execute_reply": "2022-10-31T12:05:04.990158Z"
        },
        "id": "E0IGjMK_dZIZ",
        "papermill": {
          "duration": 1.611981,
          "end_time": "2022-10-31T12:05:04.994071",
          "exception": false,
          "start_time": "2022-10-31T12:05:03.382090",
          "status": "completed"
        },
        "tags": []
      },
      "outputs": [],
      "source": [
        "# Seed value\n",
        "seed_value= 1022\n",
        "\n",
        "# 1. Set the `PYTHONHASHSEED` environment variable at a fixed value\n",
        "import os\n",
        "os.environ['PYTHONHASHSEED']=str(seed_value)\n",
        "\n",
        "# 2. Set the `python` built-in pseudo-random generator at a fixed value\n",
        "import random\n",
        "random.seed(seed_value)\n",
        "\n",
        "# 3. Set the `numpy` pseudo-random generator at a fixed value\n",
        "import numpy as np\n",
        "np.random.seed(seed_value)\n",
        "\n",
        "# 4. Set the `tensorflow` pseudo-random generator at a fixed value\n",
        "import tensorflow as tf\n",
        "tf.random.set_seed(seed_value)\n",
        "\n",
        "# 5. Configure a new global `tensorflow` session\n",
        "from keras import backend as K\n",
        "session_conf = tf.compat.v1.ConfigProto(intra_op_parallelism_threads=1, inter_op_parallelism_threads=1)\n",
        "sess = tf.compat.v1.Session(graph=tf.compat.v1.get_default_graph(), config=session_conf)\n",
        "tf.compat.v1.keras.backend.set_session(sess)"
      ]
    },
    {
      "cell_type": "markdown",
      "id": "54ba0687",
      "metadata": {
        "id": "Rc3smN2MjTy9",
        "papermill": {
          "duration": 0.01073,
          "end_time": "2022-10-31T12:05:05.016438",
          "exception": false,
          "start_time": "2022-10-31T12:05:05.005708",
          "status": "completed"
        },
        "tags": []
      },
      "source": [
        "## Data and pre-processing"
      ]
    },
    {
      "cell_type": "markdown",
      "id": "9827ef33",
      "metadata": {
        "id": "oRO00ulbhlBx",
        "papermill": {
          "duration": 0.010606,
          "end_time": "2022-10-31T12:05:05.038127",
          "exception": false,
          "start_time": "2022-10-31T12:05:05.027521",
          "status": "completed"
        },
        "tags": []
      },
      "source": [
        "Recently, a team at SIL processed the data from the [Bloom Library](https://bloomlibrary.org) in \"AI-ready\" datasets for language modeling, image captioning, speech recognition, and visual storytelling tasks. In particular, the [bloom-captioning](https://huggingface.co/datasets/sil-ai/bloom-captioning) dataset enables developers and researchers to train and/or test image captioning models in 351 languages including Hausa, Kyrgyz, and Thai. This data can be accessed on Hugging Face and/or via the \"datasets\" Python library from Hugging Face.\n",
        "\n",
        "The bloom-captioning dataset includes training, test, and validation splits for many languages, but this competition will only focus on Hausa, Kyrgyz, and Thai. These three languages represent diverse writing system scripts and geographies. The test split of the data does not include the gold standard captions paired with each image. Your job will be to generate the captions for the test split images and upload them to Kaggle. An automatic evaluation will be run on Kaggle to compare your generated captions with the gold standard captions. This evaluation will be used to rank your submission.\n",
        "\n",
        "**Note** - In order to use this dataset, you will need to have a free account on Hugging Face and agree to the terms of use for the dataset. You can do this by:\n",
        "\n",
        "1. Creating your HF account (if you don't yet have one)\n",
        "2. Navigating to your HF account and [create a new \"access token\"](https://huggingface.co/settings/tokens)\n",
        "2. Navigating to the [bloom-captioning](https://huggingface.co/datasets/sil-ai/bloom-captioning) dataset page\n",
        "3. Agreeing to the terms of use at the top of the dataset card\n",
        "4. Downloading and processing the dataset as illustrated below"
      ]
    },
    {
      "cell_type": "markdown",
      "id": "de6e440f",
      "metadata": {
        "id": "kEdDl1KVjx6K",
        "papermill": {
          "duration": 0.011079,
          "end_time": "2022-10-31T12:05:05.060760",
          "exception": false,
          "start_time": "2022-10-31T12:05:05.049681",
          "status": "completed"
        },
        "tags": []
      },
      "source": [
        "### Fetch the dataset from HF"
      ]
    },
    {
      "cell_type": "markdown",
      "id": "5bf2d3d5",
      "metadata": {
        "id": "CbGgM1tTiW43",
        "papermill": {
          "duration": 0.010627,
          "end_time": "2022-10-31T12:05:05.082452",
          "exception": false,
          "start_time": "2022-10-31T12:05:05.071825",
          "status": "completed"
        },
        "tags": []
      },
      "source": [
        "Because HF users need to agree to the terms of use of the dataset prior to usage, you need to login to HF as shown below:"
      ]
    },
    {
      "cell_type": "code",
      "execution_count": null,
      "id": "3827b2b5",
      "metadata": {
        "id": "dUJlz1PmjEgr",
        "outputId": "ef041b67-2cc8-4359-ae57-7aa81b35d262",
        "papermill": {
          "duration": null,
          "end_time": null,
          "exception": false,
          "start_time": "2022-10-31T12:05:05.094266",
          "status": "running"
        },
        "tags": []
      },
      "outputs": [],
      "source": [
        "! huggingface-cli login"
      ]
    },
    {
      "cell_type": "code",
      "execution_count": null,
      "id": "8eb9b558",
      "metadata": {
        "id": "RocNxtYHjXnr",
        "outputId": "65cf6b14-4133-4059-c347-606ed62e5d93",
        "papermill": {
          "duration": null,
          "end_time": null,
          "exception": null,
          "start_time": null,
          "status": "pending"
        },
        "tags": []
      },
      "outputs": [],
      "source": [
        "# Add the relevant ISO code for the language you want to work with.\n",
        "iso639_3_letter_code = \"hau\"\n",
        "#iso639_3_letter_code = \"tha\"\n",
        "#iso639_3_letter_code = \"kir\"\n",
        "\n",
        "# Download the language specific dataset from HF.\n",
        "dataset = load_dataset(\"sil-ai/bloom-captioning\", iso639_3_letter_code, \n",
        "                       use_auth_token=True, download_mode='force_redownload')"
      ]
    },
    {
      "cell_type": "code",
      "execution_count": null,
      "id": "46d3e428",
      "metadata": {
        "id": "VA0T9Nb9KjYe",
        "outputId": "9769f1ed-e244-40c8-bb2b-4ac17b06f58c",
        "papermill": {
          "duration": null,
          "end_time": null,
          "exception": null,
          "start_time": null,
          "status": "pending"
        },
        "tags": []
      },
      "outputs": [],
      "source": [
        "# See what is included in the dataset object.\n",
        "dataset"
      ]
    },
    {
      "cell_type": "code",
      "execution_count": null,
      "id": "0388e294",
      "metadata": {
        "id": "6g7n52cGZo7G",
        "outputId": "d57cd026-b028-4033-c584-07420e1cffb5",
        "papermill": {
          "duration": null,
          "end_time": null,
          "exception": null,
          "start_time": null,
          "status": "pending"
        },
        "tags": []
      },
      "outputs": [],
      "source": [
        "# Check how many samples (image-caption pairs) are included in our training set.\n",
        "len(dataset['train'])"
      ]
    },
    {
      "cell_type": "code",
      "execution_count": null,
      "id": "68cde25a",
      "metadata": {
        "id": "IgIzElWKI97p",
        "outputId": "429afdf2-d387-42db-fdef-6e925d3f78fe",
        "papermill": {
          "duration": null,
          "end_time": null,
          "exception": null,
          "start_time": null,
          "status": "pending"
        },
        "tags": []
      },
      "outputs": [],
      "source": [
        "# Check one of the training samples.\n",
        "dataset['train'][0]"
      ]
    },
    {
      "cell_type": "code",
      "execution_count": null,
      "id": "79c79db8",
      "metadata": {
        "id": "A_jul7FWJCW5",
        "outputId": "0d432718-2888-4a22-9aa5-11ab1f66989e",
        "papermill": {
          "duration": null,
          "end_time": null,
          "exception": null,
          "start_time": null,
          "status": "pending"
        },
        "tags": []
      },
      "outputs": [],
      "source": [
        "# Check one of the test samples. Notice the hidden caption.\n",
        "dataset['test'][0]"
      ]
    },
    {
      "cell_type": "markdown",
      "id": "4b4841a0",
      "metadata": {
        "id": "jREU72DMjuua",
        "papermill": {
          "duration": null,
          "end_time": null,
          "exception": null,
          "start_time": null,
          "status": "pending"
        },
        "tags": []
      },
      "source": [
        "### Fetch the images"
      ]
    },
    {
      "cell_type": "markdown",
      "id": "4412242a",
      "metadata": {
        "id": "Cy6CMOW1j6dm",
        "papermill": {
          "duration": null,
          "end_time": null,
          "exception": null,
          "start_time": null,
          "status": "pending"
        },
        "tags": []
      },
      "source": [
        "The actual images are NOT downloaded when you download the Hugging Face dataset. The HF dataset merely includes the public links to the images. As such, you need to download the actual image files. "
      ]
    },
    {
      "cell_type": "code",
      "execution_count": null,
      "id": "ad68e8b6",
      "metadata": {
        "id": "F4E1bg5gjkrl",
        "outputId": "8526fca3-3489-4fa6-db4a-a2182439385e",
        "papermill": {
          "duration": null,
          "end_time": null,
          "exception": null,
          "start_time": null,
          "status": "pending"
        },
        "tags": []
      },
      "outputs": [],
      "source": [
        "! rm -rf images\n",
        "! mkdir images\n",
        "\n",
        "USER_AGENT = get_datasets_user_agent()\n",
        "\n",
        "def fetch_single_image(image_url, timeout=None, retries=0):\n",
        "    request = urllib.request.Request(\n",
        "        image_url,\n",
        "        data=None,\n",
        "        headers={\"user-agent\": USER_AGENT},\n",
        "    )\n",
        "    with urllib.request.urlopen(request, timeout=timeout) as req:\n",
        "        if 'png' in image_url:\n",
        "          png = Image.open(io.BytesIO(req.read())).convert('RGBA')\n",
        "          png.load() # required for png.split()\n",
        "          background = Image.new(\"RGB\", png.size, (255, 255, 255))\n",
        "          background.paste(png, mask=png.split()[3]) # 3 is the alpha channel\n",
        "          image_id = str(uuid.uuid4())\n",
        "          image_path = \"images/\" + image_id + \".jpg\"\n",
        "          background.save(image_path, 'JPEG', quality=80)\n",
        "        else:\n",
        "          image = Image.open(io.BytesIO(req.read()))\n",
        "          image_id = str(uuid.uuid4())\n",
        "          image_path = \"images/\" + image_id + \".jpg\"\n",
        "          image.save(image_path)\n",
        "    return image_path\n",
        "\n",
        "def fetch_images(batch, num_threads, timeout=None, retries=3):\n",
        "    fetch_single_image_with_args = partial(fetch_single_image, timeout=timeout, retries=retries)\n",
        "    with ThreadPoolExecutor(max_workers=num_threads) as executor:\n",
        "        batch[\"image_path\"] = list(executor.map(fetch_single_image_with_args, batch[\"image_url\"]))\n",
        "    return batch\n",
        "\n",
        "num_threads = 20\n",
        "dataset = dataset.map(fetch_images, batched=True, batch_size=100, fn_kwargs={\"num_threads\": num_threads})"
      ]
    },
    {
      "cell_type": "code",
      "execution_count": null,
      "id": "d32055a7",
      "metadata": {
        "id": "oKv-iFodIb32",
        "outputId": "0ae15a17-1d17-4692-b94a-cb4d40440c05",
        "papermill": {
          "duration": null,
          "end_time": null,
          "exception": null,
          "start_time": null,
          "status": "pending"
        },
        "tags": []
      },
      "outputs": [],
      "source": [
        "# Notice that we now have a new field in our dataset object called \"image_path\"\n",
        "dataset['train']"
      ]
    },
    {
      "cell_type": "markdown",
      "id": "b52ee811",
      "metadata": {
        "id": "6SJP7DCPNYQe",
        "papermill": {
          "duration": null,
          "end_time": null,
          "exception": null,
          "start_time": null,
          "status": "pending"
        },
        "tags": []
      },
      "source": [
        "## Prepare images features with a pre-trained InceptionV3 model"
      ]
    },
    {
      "cell_type": "markdown",
      "id": "1ccadada",
      "metadata": {
        "id": "CD3HiQswmpOA",
        "papermill": {
          "duration": null,
          "end_time": null,
          "exception": null,
          "start_time": null,
          "status": "pending"
        },
        "tags": []
      },
      "source": [
        "This model assumes that the pretrained image encoder is sufficient, and just focuses on building the text decoder. We use the InceptionV3 model for the pretrained image encoder. Read more about InceptionV3 [here](https://keras.io/api/applications/inceptionv3/)."
      ]
    },
    {
      "cell_type": "markdown",
      "id": "cb53c4f9",
      "metadata": {
        "id": "ybyKTOfNm3_v",
        "papermill": {
          "duration": null,
          "end_time": null,
          "exception": null,
          "start_time": null,
          "status": "pending"
        },
        "tags": []
      },
      "source": [
        "### Retrieve the InceptionV3 model"
      ]
    },
    {
      "cell_type": "code",
      "execution_count": null,
      "id": "95501cf2",
      "metadata": {
        "id": "m4ZhUTsxNaGM",
        "outputId": "25a04853-652e-4918-ceec-21c954709590",
        "papermill": {
          "duration": null,
          "end_time": null,
          "exception": null,
          "start_time": null,
          "status": "pending"
        },
        "tags": []
      },
      "outputs": [],
      "source": [
        "image_model = tf.keras.applications.InceptionV3(include_top=False,\n",
        "                                                weights='imagenet')\n",
        "new_input = image_model.input\n",
        "hidden_layer = image_model.layers[-1].output\n",
        "\n",
        "image_features_extract_model = tf.keras.Model(new_input, hidden_layer)"
      ]
    },
    {
      "cell_type": "markdown",
      "id": "d327e09b",
      "metadata": {
        "id": "9YALesnjOIVl",
        "papermill": {
          "duration": null,
          "end_time": null,
          "exception": null,
          "start_time": null,
          "status": "pending"
        },
        "tags": []
      },
      "source": [
        "### Cache image features"
      ]
    },
    {
      "cell_type": "markdown",
      "id": "573b6e41",
      "metadata": {
        "id": "2tvPGx__nfBy",
        "papermill": {
          "duration": null,
          "end_time": null,
          "exception": null,
          "start_time": null,
          "status": "pending"
        },
        "tags": []
      },
      "source": [
        "Here we will use the downloaded InceptionV3 model to calculate the encoded features of our images. We will cache these features locally to utilize them during training. "
      ]
    },
    {
      "cell_type": "code",
      "execution_count": null,
      "id": "5d792d94",
      "metadata": {
        "id": "fDrwRbjhOeQd",
        "papermill": {
          "duration": null,
          "end_time": null,
          "exception": null,
          "start_time": null,
          "status": "pending"
        },
        "tags": []
      },
      "outputs": [],
      "source": [
        "def load_image(image_path):\n",
        "    img = tf.io.read_file(image_path)\n",
        "    img = tf.io.decode_jpeg(img, channels=3)\n",
        "    img = tf.keras.layers.Resizing(299, 299)(img)\n",
        "    img = tf.keras.applications.inception_v3.preprocess_input(img)\n",
        "    return img, image_path"
      ]
    },
    {
      "cell_type": "code",
      "execution_count": null,
      "id": "75a55ee0",
      "metadata": {
        "id": "5SsJq0ZcOKWy",
        "outputId": "eaf64a42-2177-4099-ed31-059c16abe327",
        "papermill": {
          "duration": null,
          "end_time": null,
          "exception": null,
          "start_time": null,
          "status": "pending"
        },
        "tags": []
      },
      "outputs": [],
      "source": [
        "# Get unique train images\n",
        "encode_train = sorted(set(dataset['train']['image_path']))\n",
        "\n",
        "# Feel free to change batch_size according to your system configuration\n",
        "image_dataset = tf.data.Dataset.from_tensor_slices(encode_train)\n",
        "image_dataset = image_dataset.map(\n",
        "  load_image, num_parallel_calls=tf.data.AUTOTUNE).batch(16)\n",
        "\n",
        "for img, path in tqdm(image_dataset):\n",
        "  batch_features = image_features_extract_model(img)\n",
        "  batch_features = tf.reshape(batch_features,\n",
        "                              (batch_features.shape[0], -1, batch_features.shape[3]))\n",
        "\n",
        "  for bf, p in zip(batch_features, path):\n",
        "    path_of_feature = p.numpy().decode(\"utf-8\")\n",
        "    np.save(path_of_feature, bf.numpy())\n",
        "\n",
        "# Get unique test images\n",
        "encode_test = sorted(set(dataset['test']['image_path']))\n",
        "\n",
        "# Feel free to change batch_size according to your system configuration\n",
        "image_dataset_test = tf.data.Dataset.from_tensor_slices(encode_test)\n",
        "image_dataset_test = image_dataset_test.map(\n",
        "  load_image, num_parallel_calls=tf.data.AUTOTUNE).batch(16)\n",
        "\n",
        "for img, path in tqdm(image_dataset_test):\n",
        "  batch_features = image_features_extract_model(img)\n",
        "  batch_features = tf.reshape(batch_features,\n",
        "                              (batch_features.shape[0], -1, batch_features.shape[3]))\n",
        "\n",
        "  for bf, p in zip(batch_features, path):\n",
        "    path_of_feature = p.numpy().decode(\"utf-8\")\n",
        "    np.save(path_of_feature, bf.numpy())"
      ]
    },
    {
      "cell_type": "markdown",
      "id": "a53b8204",
      "metadata": {
        "id": "ChClx3a5Zoi5",
        "papermill": {
          "duration": null,
          "end_time": null,
          "exception": null,
          "start_time": null,
          "status": "pending"
        },
        "tags": []
      },
      "source": [
        "## Prepare captions"
      ]
    },
    {
      "cell_type": "code",
      "execution_count": null,
      "id": "56a439ba",
      "metadata": {
        "id": "78tFrte9n0li",
        "papermill": {
          "duration": null,
          "end_time": null,
          "exception": null,
          "start_time": null,
          "status": "pending"
        },
        "tags": []
      },
      "outputs": [],
      "source": [
        "# Add some special tokens and clean up new line characters.\n",
        "train_captions = [f\"<start> {x} <end>\" for x in dataset['train']['caption']]\n",
        "train_captions = [x.replace('\\n', ' ') for x in train_captions]\n",
        "test_captions = [f\"<start> {x} <end>\" for x in dataset['test']['caption']]\n",
        "test_captions = [x.replace('\\n', ' ') for x in test_captions]"
      ]
    },
    {
      "cell_type": "code",
      "execution_count": null,
      "id": "9036253a",
      "metadata": {
        "id": "JKKFjdCPQVKo",
        "papermill": {
          "duration": null,
          "end_time": null,
          "exception": null,
          "start_time": null,
          "status": "pending"
        },
        "tags": []
      },
      "outputs": [],
      "source": [
        "caption_dataset = tf.data.Dataset.from_tensor_slices(train_captions)\n",
        "\n",
        "# We will override the default standardization of TextVectorization to preserve\n",
        "# \"<>\" characters, so we preserve the tokens for the <start> and <end>.\n",
        "def standardize(inputs):\n",
        "  inputs = tf.strings.lower(inputs)\n",
        "  return tf.strings.regex_replace(inputs,\n",
        "                                  r\"!\\\"#$%&\\(\\)\\*\\+.,-/:;=?@\\[\\\\\\]^_`{|}~\", \"\")\n",
        "\n",
        "# Max word count for a caption.\n",
        "max_length = 50\n",
        "# Use the top 5000 words for a vocabulary.\n",
        "vocabulary_size = 5000\n",
        "tokenizer = tf.keras.layers.TextVectorization(\n",
        "    max_tokens=vocabulary_size,\n",
        "    standardize=standardize,\n",
        "    output_sequence_length=max_length)\n",
        "# Learn the vocabulary from the caption data.\n",
        "tokenizer.adapt(caption_dataset)\n",
        "\n",
        "# Create the tokenized vectors\n",
        "cap_vector = caption_dataset.map(lambda x: tokenizer(x))\n",
        "\n",
        "# Create mappings for words to indices and indicies to words.\n",
        "word_to_index = tf.keras.layers.StringLookup(\n",
        "    mask_token=\"\",\n",
        "    vocabulary=tokenizer.get_vocabulary())\n",
        "index_to_word = tf.keras.layers.StringLookup(\n",
        "    mask_token=\"\",\n",
        "    vocabulary=tokenizer.get_vocabulary(),\n",
        "    invert=True)\n",
        "\n",
        "caption_dataset_test = tf.data.Dataset.from_tensor_slices(test_captions)\n",
        "cap_vector_test = caption_dataset_test.map(lambda x: tokenizer(x))"
      ]
    },
    {
      "cell_type": "markdown",
      "id": "91deff35",
      "metadata": {
        "id": "h-Sjl0cvaTuO",
        "papermill": {
          "duration": null,
          "end_time": null,
          "exception": null,
          "start_time": null,
          "status": "pending"
        },
        "tags": []
      },
      "source": [
        "## More data prep for training"
      ]
    },
    {
      "cell_type": "code",
      "execution_count": null,
      "id": "097cfda3",
      "metadata": {
        "id": "SjhZpyC3aQ64",
        "papermill": {
          "duration": null,
          "end_time": null,
          "exception": null,
          "start_time": null,
          "status": "pending"
        },
        "tags": []
      },
      "outputs": [],
      "source": [
        "# Create some mas between images, vectors, and captions\n",
        "img_to_cap_vector = collections.defaultdict(list)\n",
        "for img, cap in zip(dataset['train']['image_path'], cap_vector):\n",
        "  img_to_cap_vector[img].append(cap)\n",
        "\n",
        "img_name_train = []\n",
        "cap_train = []\n",
        "for imgt in list(img_to_cap_vector.keys()):\n",
        "  capt_len = len(img_to_cap_vector[imgt])\n",
        "  img_name_train.extend([imgt] * capt_len)\n",
        "  cap_train.extend(img_to_cap_vector[imgt])\n",
        "\n",
        "img_to_cap_vector_test = collections.defaultdict(list)\n",
        "for img, cap in zip(dataset['test']['image_path'], cap_vector_test):\n",
        "  img_to_cap_vector_test[img].append(cap)\n",
        "\n",
        "img_name_test = []\n",
        "cap_test = []\n",
        "for imgv in list(img_to_cap_vector_test.keys()):\n",
        "  capv_len = len(img_to_cap_vector_test[imgv])\n",
        "  img_name_test.extend([imgv] * capv_len)\n",
        "  cap_test.extend(img_to_cap_vector_test[imgv])"
      ]
    },
    {
      "cell_type": "code",
      "execution_count": null,
      "id": "e90ea96c",
      "metadata": {
        "id": "OmKOjSSSaUfu",
        "outputId": "89172caf-a9c6-41cf-e1a9-6972c378fc87",
        "papermill": {
          "duration": null,
          "end_time": null,
          "exception": null,
          "start_time": null,
          "status": "pending"
        },
        "tags": []
      },
      "outputs": [],
      "source": [
        "# Double check the lengths of our new arrays.\n",
        "len(img_name_train), len(cap_train)"
      ]
    },
    {
      "cell_type": "code",
      "execution_count": null,
      "id": "3116788a",
      "metadata": {
        "id": "_V7xQdp2aY5r",
        "papermill": {
          "duration": null,
          "end_time": null,
          "exception": null,
          "start_time": null,
          "status": "pending"
        },
        "tags": []
      },
      "outputs": [],
      "source": [
        "# Feel free to change these parameters according to your system's configuration\n",
        "BATCH_SIZE = 64\n",
        "BUFFER_SIZE = 1000\n",
        "embedding_dim = 256\n",
        "units = 512\n",
        "num_steps = len(img_name_train) // BATCH_SIZE\n",
        "\n",
        "# Shape of the vector extracted from InceptionV3 is (64, 2048)\n",
        "# These two variables represent that vector shape\n",
        "features_shape = 2048\n",
        "attention_features_shape = 64"
      ]
    },
    {
      "cell_type": "code",
      "execution_count": null,
      "id": "e3aacfd6",
      "metadata": {
        "id": "hYFY2qUyarMB",
        "papermill": {
          "duration": null,
          "end_time": null,
          "exception": null,
          "start_time": null,
          "status": "pending"
        },
        "tags": []
      },
      "outputs": [],
      "source": [
        "# Load the numpy files\n",
        "def map_func(img_name, cap):\n",
        "  img_tensor = np.load(img_name.decode('utf-8')+'.npy')\n",
        "  return img_tensor, cap"
      ]
    },
    {
      "cell_type": "code",
      "execution_count": null,
      "id": "51d19539",
      "metadata": {
        "id": "YJe-wn8xasdd",
        "papermill": {
          "duration": null,
          "end_time": null,
          "exception": null,
          "start_time": null,
          "status": "pending"
        },
        "tags": []
      },
      "outputs": [],
      "source": [
        "dataset_tf = tf.data.Dataset.from_tensor_slices((img_name_train, cap_train))\n",
        "\n",
        "# Use map to load the numpy files in parallel\n",
        "dataset_tf = dataset_tf.map(lambda item1, item2: tf.numpy_function(\n",
        "          map_func, [item1, item2], [tf.float32, tf.int64]),\n",
        "          num_parallel_calls=tf.data.AUTOTUNE)\n",
        "\n",
        "# Shuffle and batch\n",
        "dataset_tf = dataset_tf.shuffle(BUFFER_SIZE).batch(BATCH_SIZE)\n",
        "dataset_tf = dataset_tf.prefetch(buffer_size=tf.data.AUTOTUNE)"
      ]
    },
    {
      "cell_type": "markdown",
      "id": "e8d8867e",
      "metadata": {
        "id": "uQOfL_jsawMp",
        "papermill": {
          "duration": null,
          "end_time": null,
          "exception": null,
          "start_time": null,
          "status": "pending"
        },
        "tags": []
      },
      "source": [
        "## Define our image captioning model"
      ]
    },
    {
      "cell_type": "code",
      "execution_count": null,
      "id": "bd5e9b39",
      "metadata": {
        "id": "EmIemwgNatoq",
        "papermill": {
          "duration": null,
          "end_time": null,
          "exception": null,
          "start_time": null,
          "status": "pending"
        },
        "tags": []
      },
      "outputs": [],
      "source": [
        "class BahdanauAttention(tf.keras.Model):\n",
        "  def __init__(self, units):\n",
        "    super(BahdanauAttention, self).__init__()\n",
        "    self.W1 = tf.keras.layers.Dense(units)\n",
        "    self.W2 = tf.keras.layers.Dense(units)\n",
        "    self.V = tf.keras.layers.Dense(1)\n",
        "\n",
        "  def call(self, features, hidden):\n",
        "    # features(CNN_encoder output) shape == (batch_size, 64, embedding_dim)\n",
        "\n",
        "    # hidden shape == (batch_size, hidden_size)\n",
        "    # hidden_with_time_axis shape == (batch_size, 1, hidden_size)\n",
        "    hidden_with_time_axis = tf.expand_dims(hidden, 1)\n",
        "\n",
        "    # attention_hidden_layer shape == (batch_size, 64, units)\n",
        "    attention_hidden_layer = (tf.nn.tanh(self.W1(features) +\n",
        "                                         self.W2(hidden_with_time_axis)))\n",
        "\n",
        "    # score shape == (batch_size, 64, 1)\n",
        "    # This gives you an unnormalized score for each image feature.\n",
        "    score = self.V(attention_hidden_layer)\n",
        "\n",
        "    # attention_weights shape == (batch_size, 64, 1)\n",
        "    attention_weights = tf.nn.softmax(score, axis=1)\n",
        "\n",
        "    # context_vector shape after sum == (batch_size, hidden_size)\n",
        "    context_vector = attention_weights * features\n",
        "    context_vector = tf.reduce_sum(context_vector, axis=1)\n",
        "\n",
        "    return context_vector, attention_weights\n"
      ]
    },
    {
      "cell_type": "code",
      "execution_count": null,
      "id": "382b6883",
      "metadata": {
        "id": "GyxXsF3_axFb",
        "papermill": {
          "duration": null,
          "end_time": null,
          "exception": null,
          "start_time": null,
          "status": "pending"
        },
        "tags": []
      },
      "outputs": [],
      "source": [
        "class CNN_Encoder(tf.keras.Model):\n",
        "    # Since you have already extracted the features and dumped it\n",
        "    # This encoder passes those features through a Fully connected layer\n",
        "    def __init__(self, embedding_dim):\n",
        "        super(CNN_Encoder, self).__init__()\n",
        "        # shape after fc == (batch_size, 64, embedding_dim)\n",
        "        self.fc = tf.keras.layers.Dense(embedding_dim)\n",
        "\n",
        "    def call(self, x):\n",
        "        x = self.fc(x)\n",
        "        x = tf.nn.relu(x)\n",
        "        return x\n"
      ]
    },
    {
      "cell_type": "code",
      "execution_count": null,
      "id": "5bad24e5",
      "metadata": {
        "id": "88T53JesazIr",
        "papermill": {
          "duration": null,
          "end_time": null,
          "exception": null,
          "start_time": null,
          "status": "pending"
        },
        "tags": []
      },
      "outputs": [],
      "source": [
        "class RNN_Decoder(tf.keras.Model):\n",
        "  def __init__(self, embedding_dim, units, vocab_size):\n",
        "    super(RNN_Decoder, self).__init__()\n",
        "    self.units = units\n",
        "\n",
        "    self.embedding = tf.keras.layers.Embedding(vocab_size, embedding_dim)\n",
        "    self.gru = tf.keras.layers.GRU(self.units,\n",
        "                                   return_sequences=True,\n",
        "                                   return_state=True,\n",
        "                                   recurrent_initializer='glorot_uniform')\n",
        "    self.fc1 = tf.keras.layers.Dense(self.units)\n",
        "    self.fc2 = tf.keras.layers.Dense(vocab_size)\n",
        "\n",
        "    self.attention = BahdanauAttention(self.units)\n",
        "\n",
        "  def call(self, x, features, hidden):\n",
        "    # defining attention as a separate model\n",
        "    context_vector, attention_weights = self.attention(features, hidden)\n",
        "\n",
        "    # x shape after passing through embedding == (batch_size, 1, embedding_dim)\n",
        "    x = self.embedding(x)\n",
        "\n",
        "    # x shape after concatenation == (batch_size, 1, embedding_dim + hidden_size)\n",
        "    x = tf.concat([tf.expand_dims(context_vector, 1), x], axis=-1)\n",
        "\n",
        "    # passing the concatenated vector to the GRU\n",
        "    output, state = self.gru(x)\n",
        "\n",
        "    # shape == (batch_size, max_length, hidden_size)\n",
        "    x = self.fc1(output)\n",
        "\n",
        "    # x shape == (batch_size * max_length, hidden_size)\n",
        "    x = tf.reshape(x, (-1, x.shape[2]))\n",
        "\n",
        "    # output shape == (batch_size * max_length, vocab)\n",
        "    x = self.fc2(x)\n",
        "\n",
        "    return x, state, attention_weights\n",
        "\n",
        "  def reset_state(self, batch_size):\n",
        "    return tf.zeros((batch_size, self.units))\n"
      ]
    },
    {
      "cell_type": "code",
      "execution_count": null,
      "id": "ebf7cbb2",
      "metadata": {
        "id": "5wKm0qbPa0wq",
        "papermill": {
          "duration": null,
          "end_time": null,
          "exception": null,
          "start_time": null,
          "status": "pending"
        },
        "tags": []
      },
      "outputs": [],
      "source": [
        "# Initialize the encoder and decoder\n",
        "encoder = CNN_Encoder(embedding_dim)\n",
        "decoder = RNN_Decoder(embedding_dim, units, tokenizer.vocabulary_size())"
      ]
    },
    {
      "cell_type": "code",
      "execution_count": null,
      "id": "14df6a80",
      "metadata": {
        "id": "1-L6W_p9a2Kx",
        "papermill": {
          "duration": null,
          "end_time": null,
          "exception": null,
          "start_time": null,
          "status": "pending"
        },
        "tags": []
      },
      "outputs": [],
      "source": [
        "# Training config.\n",
        "optimizer = tf.keras.optimizers.Adam()\n",
        "loss_object = tf.keras.losses.SparseCategoricalCrossentropy(\n",
        "    from_logits=True, reduction='none')\n",
        "\n",
        "# Loss function to use during training.\n",
        "def loss_function(real, pred):\n",
        "  mask = tf.math.logical_not(tf.math.equal(real, 0))\n",
        "  loss_ = loss_object(real, pred)\n",
        "\n",
        "  mask = tf.cast(mask, dtype=loss_.dtype)\n",
        "  loss_ *= mask\n",
        "\n",
        "  return tf.reduce_mean(loss_)"
      ]
    },
    {
      "cell_type": "markdown",
      "id": "d005e11f",
      "metadata": {
        "id": "ZHqzia1ea37r",
        "papermill": {
          "duration": null,
          "end_time": null,
          "exception": null,
          "start_time": null,
          "status": "pending"
        },
        "tags": []
      },
      "source": [
        "## Setup and execute training"
      ]
    },
    {
      "cell_type": "code",
      "execution_count": null,
      "id": "f743316e",
      "metadata": {
        "id": "ggMkCTKEa3Z9",
        "papermill": {
          "duration": null,
          "end_time": null,
          "exception": null,
          "start_time": null,
          "status": "pending"
        },
        "tags": []
      },
      "outputs": [],
      "source": [
        "# Make sure we save checkpoints during training\n",
        "checkpoint_path = \"./checkpoints/train\"\n",
        "ckpt = tf.train.Checkpoint(encoder=encoder,\n",
        "                           decoder=decoder,\n",
        "                           optimizer=optimizer)\n",
        "ckpt_manager = tf.train.CheckpointManager(ckpt, checkpoint_path, max_to_keep=5)"
      ]
    },
    {
      "cell_type": "code",
      "execution_count": null,
      "id": "e7aa8a9b",
      "metadata": {
        "id": "sRatak4Na6gd",
        "papermill": {
          "duration": null,
          "end_time": null,
          "exception": null,
          "start_time": null,
          "status": "pending"
        },
        "tags": []
      },
      "outputs": [],
      "source": [
        "start_epoch = 0\n",
        "if ckpt_manager.latest_checkpoint:\n",
        "  start_epoch = int(ckpt_manager.latest_checkpoint.split('-')[-1])\n",
        "  \n",
        "  # restoring the latest checkpoint in checkpoint_path\n",
        "  ckpt.restore(ckpt_manager.latest_checkpoint)"
      ]
    },
    {
      "cell_type": "code",
      "execution_count": null,
      "id": "8ed356ed",
      "metadata": {
        "id": "M0828wbXa8d_",
        "papermill": {
          "duration": null,
          "end_time": null,
          "exception": null,
          "start_time": null,
          "status": "pending"
        },
        "tags": []
      },
      "outputs": [],
      "source": [
        "# adding this in a separate cell because if you run the training cell\n",
        "# many times, the loss_plot array will be reset\n",
        "loss_plot = []"
      ]
    },
    {
      "cell_type": "code",
      "execution_count": null,
      "id": "c26d9f0d",
      "metadata": {
        "id": "MPd14RVGa_IJ",
        "papermill": {
          "duration": null,
          "end_time": null,
          "exception": null,
          "start_time": null,
          "status": "pending"
        },
        "tags": []
      },
      "outputs": [],
      "source": [
        "@tf.function\n",
        "def train_step(img_tensor, target):\n",
        "  loss = 0\n",
        "\n",
        "  # initializing the hidden state for each batch\n",
        "  # because the captions are not related from image to image\n",
        "  hidden = decoder.reset_state(batch_size=target.shape[0])\n",
        "\n",
        "  dec_input = tf.expand_dims([word_to_index('<start>')] * target.shape[0], 1)\n",
        "\n",
        "  with tf.GradientTape() as tape:\n",
        "      features = encoder(img_tensor)\n",
        "\n",
        "      for i in range(1, target.shape[1]):\n",
        "          # passing the features through the decoder\n",
        "          predictions, hidden, _ = decoder(dec_input, features, hidden)\n",
        "\n",
        "          loss += loss_function(target[:, i], predictions)\n",
        "\n",
        "          # using teacher forcing\n",
        "          dec_input = tf.expand_dims(target[:, i], 1)\n",
        "\n",
        "  total_loss = (loss / int(target.shape[1]))\n",
        "  trainable_variables = encoder.trainable_variables + decoder.trainable_variables\n",
        "  gradients = tape.gradient(loss, trainable_variables)\n",
        "  optimizer.apply_gradients(zip(gradients, trainable_variables))\n",
        "\n",
        "  return loss, total_loss"
      ]
    },
    {
      "cell_type": "code",
      "execution_count": null,
      "id": "6ab503d5",
      "metadata": {
        "id": "Yw_aGJpsbBdp",
        "outputId": "bf095fd3-bf17-43ff-d89b-7a4262e5b901",
        "papermill": {
          "duration": null,
          "end_time": null,
          "exception": null,
          "start_time": null,
          "status": "pending"
        },
        "tags": []
      },
      "outputs": [],
      "source": [
        "# Adjust this depending on how long you want to train\n",
        "EPOCHS = 5\n",
        "\n",
        "# Train our model!\n",
        "for epoch in range(start_epoch, EPOCHS):\n",
        "    start = time.time()\n",
        "    total_loss = 0\n",
        "\n",
        "    for (batch, (img_tensor, target)) in enumerate(dataset_tf):\n",
        "        batch_loss, t_loss = train_step(img_tensor, target)\n",
        "        total_loss += t_loss\n",
        "\n",
        "        if batch % 100 == 0:\n",
        "            average_batch_loss = batch_loss.numpy()/int(target.shape[1])\n",
        "            print(f'Epoch {epoch+1} Batch {batch} Loss {average_batch_loss:.4f}')\n",
        "    # storing the epoch end loss value to plot later\n",
        "    loss_plot.append(total_loss / num_steps)\n",
        "\n",
        "    if epoch % 5 == 0:\n",
        "      ckpt_manager.save()\n",
        "\n",
        "    print(f'Epoch {epoch+1} Loss {total_loss/num_steps:.6f}')\n",
        "    print(f'Time taken for 1 epoch {time.time()-start:.2f} sec\\n')"
      ]
    },
    {
      "cell_type": "code",
      "execution_count": null,
      "id": "73397fce",
      "metadata": {
        "id": "M8zS5bsUbDBC",
        "outputId": "7a89c64f-bf0c-4602-dcf6-120da4eac519",
        "papermill": {
          "duration": null,
          "end_time": null,
          "exception": null,
          "start_time": null,
          "status": "pending"
        },
        "tags": []
      },
      "outputs": [],
      "source": [
        "# Visualize our loss\n",
        "plt.plot(loss_plot)\n",
        "plt.xlabel('Epochs')\n",
        "plt.ylabel('Loss')\n",
        "plt.title('Loss Plot')\n",
        "plt.show()"
      ]
    },
    {
      "cell_type": "markdown",
      "id": "c2b7bca8",
      "metadata": {
        "id": "-1a3AwSMMsaM",
        "papermill": {
          "duration": null,
          "end_time": null,
          "exception": null,
          "start_time": null,
          "status": "pending"
        },
        "tags": []
      },
      "source": [
        "## Predict a caption for the test set"
      ]
    },
    {
      "cell_type": "code",
      "execution_count": null,
      "id": "cd814b31",
      "metadata": {
        "id": "tQcF5FuPMvHf",
        "papermill": {
          "duration": null,
          "end_time": null,
          "exception": null,
          "start_time": null,
          "status": "pending"
        },
        "tags": []
      },
      "outputs": [],
      "source": [
        "def predict(image):\n",
        "    attention_plot = np.zeros((max_length, attention_features_shape))\n",
        "\n",
        "    hidden = decoder.reset_state(batch_size=1)\n",
        "\n",
        "    temp_input = tf.expand_dims(load_image(image)[0], 0)\n",
        "    img_tensor_val = image_features_extract_model(temp_input)\n",
        "    img_tensor_val = tf.reshape(img_tensor_val, (img_tensor_val.shape[0],\n",
        "                                                 -1,\n",
        "                                                 img_tensor_val.shape[3]))\n",
        "\n",
        "    features = encoder(img_tensor_val)\n",
        "\n",
        "    dec_input = tf.expand_dims([word_to_index('<start>')], 0)\n",
        "    result = []\n",
        "\n",
        "    for i in range(max_length):\n",
        "        predictions, hidden, attention_weights = decoder(dec_input,\n",
        "                                                         features,\n",
        "                                                         hidden)\n",
        "\n",
        "        attention_plot[i] = tf.reshape(attention_weights, (-1, )).numpy()\n",
        "\n",
        "        predicted_id = tf.random.categorical(predictions, 1)[0][0].numpy()\n",
        "        predicted_word = tf.compat.as_text(index_to_word(predicted_id).numpy())\n",
        "        result.append(predicted_word)\n",
        "\n",
        "        if predicted_word == '<end>':\n",
        "            return result, attention_plot\n",
        "\n",
        "        dec_input = tf.expand_dims([predicted_id], 0)\n",
        "\n",
        "    attention_plot = attention_plot[:len(result), :]\n",
        "    return result, attention_plot"
      ]
    },
    {
      "cell_type": "code",
      "execution_count": null,
      "id": "444c71b3",
      "metadata": {
        "id": "6VGYuJ-oM7iP",
        "papermill": {
          "duration": null,
          "end_time": null,
          "exception": null,
          "start_time": null,
          "status": "pending"
        },
        "tags": []
      },
      "outputs": [],
      "source": [
        "def plot_attention(image, result, attention_plot):\n",
        "    temp_image = np.array(Image.open(image))\n",
        "\n",
        "    fig = plt.figure(figsize=(10, 10))\n",
        "\n",
        "    len_result = len(result)\n",
        "    for i in range(len_result):\n",
        "        temp_att = np.resize(attention_plot[i], (8, 8))\n",
        "        grid_size = max(int(np.ceil(len_result/2)), 2)\n",
        "        ax = fig.add_subplot(grid_size, grid_size, i+1)\n",
        "        ax.set_title(result[i])\n",
        "        img = ax.imshow(temp_image)\n",
        "        ax.imshow(temp_att, cmap='gray', alpha=0.6, extent=img.get_extent())\n",
        "\n",
        "    plt.tight_layout()\n",
        "    plt.show()"
      ]
    },
    {
      "cell_type": "code",
      "execution_count": null,
      "id": "18a1e9a6",
      "metadata": {
        "id": "m_kNYfd1M-mx",
        "outputId": "cfe8d738-a4bb-490c-8e78-7838d748e3e1",
        "papermill": {
          "duration": null,
          "end_time": null,
          "exception": null,
          "start_time": null,
          "status": "pending"
        },
        "tags": []
      },
      "outputs": [],
      "source": [
        "# Predict a caption for a random test image\n",
        "rid = np.random.randint(0, len(img_name_test))\n",
        "image = img_name_test[rid]\n",
        "result, attention_plot = predict(image)\n",
        "predicted_caption = ' '.join(result).replace(' <end>', '')\n",
        "print('Prediction Caption:', predicted_caption)\n",
        "\n",
        "# Display image\n",
        "from IPython.display import Image as im\n",
        "im(filename=image) "
      ]
    }
  ],
  "metadata": {
    "kernelspec": {
      "display_name": "Python 3",
      "language": "python",
      "name": "python3"
    },
    "language_info": {
      "codemirror_mode": {
        "name": "ipython",
        "version": 3
      },
      "file_extension": ".py",
      "mimetype": "text/x-python",
      "name": "python",
      "nbconvert_exporter": "python",
      "pygments_lexer": "ipython3",
      "version": "3.6.4"
    },
    "papermill": {
      "default_parameters": {},
      "duration": null,
      "end_time": null,
      "environment_variables": {},
      "exception": null,
      "input_path": "__notebook__.ipynb",
      "output_path": "__notebook__.ipynb",
      "parameters": {},
      "start_time": "2022-10-31T12:04:36.337610",
      "version": "2.3.4"
    }
  },
  "nbformat": 4,
  "nbformat_minor": 5
}
